{
 "cells": [
  {
   "cell_type": "markdown",
   "metadata": {
    "collapsed": true,
    "pycharm": {
     "name": "#%% md\n"
    }
   },
   "source": [
    "The configuration and configuration screen.\n",
    "Depending on the analysis, there are configurations that need to be made. Examples are: Picking the dates between which the analysis shall be done. Or defining a closed case.\n",
    "Each configuration shall be a class that creates a box with the configurations and stores the configuration as a member variable.\n",
    "Then later, the screen / Configuration can be created by defining which configuration classes to use"
   ]
  },
  {
   "cell_type": "code",
   "execution_count": 163,
   "metadata": {
    "pycharm": {
     "name": "#%%\n"
    }
   },
   "outputs": [],
   "source": [
    "import abc\n",
    "from typing import List, Dict, Any\n",
    "from ipywidgets import HBox, VBox, Box, DatePicker, HTML, Layout"
   ]
  },
  {
   "cell_type": "code",
   "execution_count": 164,
   "metadata": {
    "pycharm": {
     "name": "#%%\n"
    }
   },
   "outputs": [],
   "source": [
    "class Configuration(abc.ABC):\n",
    "    def __init__(self):\n",
    "        pass\n",
    "\n",
    "    @property\n",
    "    @abc.abstractmethod\n",
    "    def config(self) -> Dict[str, Any]:\n",
    "        pass\n",
    "\n",
    "    @abc.abstractmethod\n",
    "    def create_box(self) -> Box:\n",
    "        \"\"\"Create box with the configuration\n",
    "\n",
    "        :return: Box with the configuration\n",
    "        \"\"\"\n"
   ]
  },
  {
   "cell_type": "code",
   "execution_count": 165,
   "metadata": {
    "pycharm": {
     "name": "#%%\n"
    }
   },
   "outputs": [],
   "source": [
    "class DatePickerConfig(Configuration):\n",
    "    def __init__(self, caption_size: int, caption_bold: bool = False):\n",
    "        super().__init__()\n",
    "        self._config = {}\n",
    "        self.datepicker_start = None\n",
    "        self.datepicker_end = None\n",
    "        self.caption_size = caption_size\n",
    "        self.caption_bold = caption_bold\n",
    "        self.box = self.create_box()\n",
    "\n",
    "    @property\n",
    "    def config(self):\n",
    "        return self._config\n",
    "\n",
    "    def get_html_str_caption_bold(self):\n",
    "        if self.caption_bold:\n",
    "            return \"bold\"\n",
    "        else:\n",
    "            return \"normal\"\n",
    "\n",
    "    def create_box(self) -> VBox:\n",
    "        html_descr_datepicker_start = HTML(\"<span style=\\ font-size: 12>Start date</span>\")\n",
    "        html_descr_datepicker_end = HTML(\"<span style=\\ font-size: 12>End date</span>\")\n",
    "        self.datepicker_start = DatePicker(disabled=False)\n",
    "        self.datepicker_end = DatePicker(disabled=False)\n",
    "        def bind_datepicker_start(b):\n",
    "            self.config['date_start'] = b.new\n",
    "        def bind_datepicker_end(b):\n",
    "            self.config['date_end'] = b.new\n",
    "        self.datepicker_start.observe(bind_datepicker_start, 'value')\n",
    "        self.datepicker_end.observe(bind_datepicker_end, 'value')\n",
    "        vbox_datepicker_start = VBox(children=[html_descr_datepicker_start, self.datepicker_start])\n",
    "        vbox_datepicker_end = VBox(children=[html_descr_datepicker_end, self.datepicker_end], layout=Layout(margin=\"0px 0px 0px 10px\"))\n",
    "        html_caption_str = f\"<span style=\\\"font-weight:{self.get_html_str_caption_bold()};  font-size:{self.caption_size}px\\\">Pick date interval for analysis</span>\"\n",
    "        caption_HTML = HTML(html_caption_str)\n",
    "        hbox_datepickers = HBox(children = [vbox_datepicker_start, vbox_datepicker_end])\n",
    "        box_cofig = VBox(children = [caption_HTML, hbox_datepickers])\n",
    "\n",
    "        return box_cofig"
   ]
  },
  {
   "cell_type": "code",
   "execution_count": 190,
   "metadata": {
    "pycharm": {
     "name": "#%%\n"
    }
   },
   "outputs": [],
   "source": [
    "class ConfigurationCreator:\n",
    "    \"\"\"Class that creates a screen with the configurations and holds the configurations.\n",
    "\n",
    "    \"\"\"\n",
    "    def __init__(self, configs: List[Configuration]):\n",
    "        self.configs = configs\n",
    "        self.screen = self.create_box()\n",
    "\n",
    "    def create_box(self):\n",
    "        html_title = HTML(\"<span style=\\\"font-weight:bold;  font-size:16px\\\">Configurations</span\")\n",
    "        vbox_children = [html_title] + [config.box for config in self.configs]\n",
    "        return VBox(children=vbox_children)\n",
    "\n"
   ]
  },
  {
   "cell_type": "code",
   "execution_count": 191,
   "metadata": {
    "pycharm": {
     "name": "#%%\n"
    }
   },
   "outputs": [],
   "source": [
    "dpc = DatePickerConfig(14, True)"
   ]
  },
  {
   "cell_type": "code",
   "execution_count": 192,
   "metadata": {
    "pycharm": {
     "name": "#%%\n"
    }
   },
   "outputs": [],
   "source": [
    "cc=ConfigurationCreator([dpc])"
   ]
  },
  {
   "cell_type": "code",
   "execution_count": 193,
   "metadata": {},
   "outputs": [
    {
     "data": {
      "application/vnd.jupyter.widget-view+json": {
       "model_id": "71ad293b5510416f81708e194fc82abd",
       "version_major": 2,
       "version_minor": 0
      },
      "text/plain": [
       "VBox(children=(HTML(value='<span style=\"font-weight:bold;  font-size:16px\">Configurations</span'), VBox(childr…"
      ]
     },
     "metadata": {},
     "output_type": "display_data"
    }
   ],
   "source": [
    "cc.screen"
   ]
  },
  {
   "cell_type": "code",
   "execution_count": null,
   "metadata": {},
   "outputs": [],
   "source": []
  }
 ],
 "metadata": {
  "kernelspec": {
   "display_name": "Python 3 (ipykernel)",
   "language": "python",
   "name": "python3"
  },
  "language_info": {
   "codemirror_mode": {
    "name": "ipython",
    "version": 3
   },
   "file_extension": ".py",
   "mimetype": "text/x-python",
   "name": "python",
   "nbconvert_exporter": "python",
   "pygments_lexer": "ipython3",
   "version": "3.8.12"
  }
 },
 "nbformat": 4,
 "nbformat_minor": 1
}
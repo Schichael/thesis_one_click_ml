{
 "cells": [
  {
   "cell_type": "code",
   "execution_count": 2,
   "metadata": {
    "pycharm": {
     "is_executing": true
    }
   },
   "outputs": [],
   "source": [
    "from one_click_analysis.gui.analysis_case_duration import AnalysisCaseDuration"
   ]
  },
  {
   "cell_type": "code",
   "execution_count": 3,
   "metadata": {
    "pycharm": {
     "name": "#%%\n"
    }
   },
   "outputs": [],
   "source": [
    "\"\"\"\n",
    "login = {\n",
    "        \"celonis_url\": \"paste your celonis url here\",\n",
    "        \"api_token\": \"paste your api token here\",\n",
    "        # The following 2 lines are only necessary when connecting to CPM4.5, not for IBC:\n",
    "        # \"api_id\": \"paste_here_your_api_id\",\n",
    "        # \"username\": \"paste_here_your_username\",\n",
    "    }\n",
    "\"\"\""
   ]
  },
  {
   "cell_type": "code",
   "execution_count": 4,
   "metadata": {
    "pycharm": {
     "name": "#%%\n"
    }
   },
   "outputs": [],
   "source": [
    "datamodel = \"P2P_Wils_Course\""
   ]
  },
  {
   "cell_type": "code",
   "execution_count": 5,
   "metadata": {
    "pycharm": {
     "name": "#%%\n"
    }
   },
   "outputs": [],
   "source": [
    "analysis_case_duration = AnalysisCaseDuration(datamodel, login)"
   ]
  },
  {
   "cell_type": "code",
   "execution_count": 6,
   "metadata": {
    "pycharm": {
     "name": "#%%\n"
    },
    "scrolled": false
   },
   "outputs": [
    {
     "data": {
      "application/vnd.jupyter.widget-view+json": {
       "model_id": "",
       "version_major": 2,
       "version_minor": 0
      },
      "text/plain": [
       "Output(layout=Layout(border='1px solid black'))"
      ]
     },
     "metadata": {},
     "output_type": "display_data"
    },
    {
     "name": "stdout",
     "output_type": "stream",
     "text": [
      "[2022-03-28 21:14:08] INFO: Your PyCelonis Version 1.6.0 is outdated (Newest Version: 1.6.1). Please upgrade the package via: pip install --extra-index-url=https://pypi.celonis.cloud/ pycelonis --upgrade\n"
     ]
    },
    {
     "name": "stderr",
     "output_type": "stream",
     "text": [
      "[2022-03-28 21:14:08] WARNING: Argument 'key_type' not set, defaults to KeyType.APP_KEY.\n",
      "Must be one of [USER_KEY, APP_KEY]You can specify the 'key_type' argument as follows:\n",
      "from pycelonis import get_celonis\n",
      "from pycelonis.celonis_api.utils import KeyType\n",
      "\n",
      "celonis = get_celonis(key_type=KeyType.APP_KEY)\n"
     ]
    },
    {
     "name": "stdout",
     "output_type": "stream",
     "text": [
      "[2022-03-28 21:14:08] INFO: Login successful! You are using an Application Key. PyCelonis Version: 1.6.0\n",
      "[2022-03-28 21:14:09] INFO: Your key has following permissions:\n",
      "[\n",
      "    {\n",
      "        \"permissions\": [\n",
      "            \"MANAGE_PERMISSIONS\",\n",
      "            \"EDIT_ALL_SPACES\",\n",
      "            \"CREATE_SPACE\",\n",
      "            \"DELETE_ALL_SPACES\"\n",
      "        ],\n",
      "        \"serviceName\": \"package-manager\"\n",
      "    },\n",
      "    {\n",
      "        \"permissions\": [\n",
      "            \"EDIT_AGENTS\",\n",
      "            \"VIEW_AGENTS\",\n",
      "            \"REGISTER_AGENTS\",\n",
      "            \"MANAGE_PERMISSIONS\"\n",
      "        ],\n",
      "        \"serviceName\": \"workflows\"\n",
      "    },\n",
      "    {\n",
      "        \"permissions\": [\n",
      "            \"EDIT_CLIENT_SETTINGS\",\n",
      "            \"EDIT_USERS\"\n",
      "        ],\n",
      "        \"serviceName\": \"task-mining\"\n",
      "    },\n",
      "    {\n",
      "        \"permissions\": [\n",
      "            \"MANAGE_SSO_SETTINGS\",\n",
      "            \"USE_AUDIT_LOGS_API\",\n",
      "            \"MANAGE_GENERAL_SETTINGS\",\n",
      "            \"MANAGE_GROUPS\",\n",
      "            \"MANAGE_APPLICATIONS\",\n",
      "            \"MANAGE_LICENSE_SETTINGS\",\n",
      "            \"MANAGE_MEMBERS\",\n",
      "            \"MANAGE_UPLINK_INTEGRATIONS\",\n",
      "            \"MANAGE_PERMISSIONS\",\n",
      "            \"MANAGE_ADMIN_NOTIFICATIONS\",\n",
      "            \"IMPORT_MEMBERS\",\n",
      "            \"MANAGE_MEMBER_LOCKING_POLICY\"\n",
      "        ],\n",
      "        \"serviceName\": \"team\"\n",
      "    },\n",
      "    {\n",
      "        \"permissions\": [\n",
      "            \"CREATE_PROJECTS\",\n",
      "            \"MANAGE_SKILLS\",\n",
      "            \"ACCESS_ALL_PROJECTS\",\n",
      "            \"MY_INBOX\"\n",
      "        ],\n",
      "        \"serviceName\": \"action-engine\"\n",
      "    },\n",
      "    {\n",
      "        \"permissions\": [\n",
      "            \"CREATE_AND_MODIFY_CATEGORIES\",\n",
      "            \"DELETE_EXISTING_CATEGORIES\",\n",
      "            \"MODIFY_EXISTING_CATEGORIES\"\n",
      "        ],\n",
      "        \"serviceName\": \"process-repository\"\n",
      "    },\n",
      "    {\n",
      "        \"permissions\": [\n",
      "            \"DELETE_ALL_WORKSPACES\",\n",
      "            \"MOVE_TO\",\n",
      "            \"CREATE_WORKSPACE\",\n",
      "            \"DELETE_ALL_ANALYSES\",\n",
      "            \"EDIT_ALL_ANALYSES\",\n",
      "            \"EDIT_ALL_WORKSPACES\",\n",
      "            \"CREATE_ANALYSES\",\n",
      "            \"USE_ALL_ANALYSES\",\n",
      "            \"MANAGE_PERMISSIONS\",\n",
      "            \"EXPORT_CONTENT\"\n",
      "        ],\n",
      "        \"serviceName\": \"process-analytics\"\n",
      "    },\n",
      "    {\n",
      "        \"permissions\": [],\n",
      "        \"serviceName\": \"transformation-center\"\n",
      "    },\n",
      "    {\n",
      "        \"permissions\": [\n",
      "            \"DELETE\",\n",
      "            \"CREATE\",\n",
      "            \"GET\",\n",
      "            \"ADMIN\",\n",
      "            \"LIST\"\n",
      "        ],\n",
      "        \"serviceName\": \"storage-manager\"\n",
      "    },\n",
      "    {\n",
      "        \"permissions\": [\n",
      "            \"USE_ALL_DATA_MODELS\",\n",
      "            \"EDIT_ALL_DATA_POOLS\",\n",
      "            \"CREATE_DATA_POOL\"\n",
      "        ],\n",
      "        \"serviceName\": \"event-collection\"\n",
      "    },\n",
      "    {\n",
      "        \"permissions\": [\n",
      "            \"DELETE_SCHEDULERS\",\n",
      "            \"EDIT_SCHEDULERS\",\n",
      "            \"USE_ALL_SCHEDULERS\",\n",
      "            \"USE_ALL_APPS\",\n",
      "            \"CREATE_SCHEDULERS\",\n",
      "            \"MANAGE_ALL_APPS\",\n",
      "            \"CREATE_WORKSPACES\",\n",
      "            \"MANAGE_SCHEDULERS_PERMISSIONS\",\n",
      "            \"VIEW_CONFIGURATION\",\n",
      "            \"CREATE_APPS\",\n",
      "            \"MANAGE_ALL_MLFLOWS\",\n",
      "            \"CREATE_MLFLOWS\",\n",
      "            \"USE_ALL_MLFLOWS\",\n",
      "            \"MANAGE_ALL_WORKSPACES\"\n",
      "        ],\n",
      "        \"serviceName\": \"ml-workbench\"\n",
      "    },\n",
      "    {\n",
      "        \"permissions\": [],\n",
      "        \"serviceName\": \"user-provisioning\"\n",
      "    }\n",
      "]\n",
      "[2022-03-28 21:14:14] INFO: PQL Export started...\n",
      "[2022-03-28 21:14:14] INFO: PQL Export status: DONE\n",
      "[2022-03-28 21:14:14] INFO: PQL Export started...\n",
      "[2022-03-28 21:14:15] INFO: PQL Export status: DONE\n",
      "[2022-03-28 21:14:15] INFO: PQL Export started...\n",
      "[2022-03-28 21:14:15] INFO: PQL Export status: DONE\n",
      "[2022-03-28 21:14:16] INFO: PQL Export started...\n",
      "[2022-03-28 21:14:16] INFO: PQL Export status: DONE\n",
      "[2022-03-28 21:14:17] INFO: PQL Export started...\n",
      "[2022-03-28 21:14:17] INFO: PQL Export status: DONE\n",
      "[2022-03-28 21:14:17] INFO: PQL Export started...\n",
      "[2022-03-28 21:14:17] INFO: PQL Export status: DONE\n",
      "[2022-03-28 21:14:18] INFO: PQL Export started...\n",
      "[2022-03-28 21:14:18] INFO: PQL Export status: DONE\n",
      "[2022-03-28 21:14:20] INFO: PQL Export started...\n",
      "[2022-03-28 21:14:21] INFO: PQL Export status: DONE\n",
      "[2022-03-28 21:14:21] INFO: PQL Export started...\n",
      "[2022-03-28 21:14:21] INFO: PQL Export status: DONE\n",
      "[2022-03-28 21:14:23] INFO: PQL Export started...\n",
      "[2022-03-28 21:14:23] INFO: PQL Export status: DONE\n",
      "[2022-03-28 21:14:24] INFO: PQL Export started...\n",
      "[2022-03-28 21:14:24] INFO: PQL Export status: DONE\n",
      "[2022-03-28 21:14:25] INFO: PQL Export started...\n",
      "[2022-03-28 21:14:25] INFO: PQL Export status: DONE\n",
      "[2022-03-28 21:14:25] INFO: PQL Export started...\n",
      "[2022-03-28 21:14:25] INFO: PQL Export status: DONE\n",
      "[2022-03-28 21:14:26] INFO: PQL Export started...\n",
      "[2022-03-28 21:14:26] INFO: PQL Export status: DONE\n",
      "[2022-03-28 21:14:26] INFO: PQL Export started...\n",
      "[2022-03-28 21:14:27] INFO: PQL Export status: DONE\n",
      "[2022-03-28 21:14:27] INFO: PQL Export started...\n",
      "[2022-03-28 21:14:27] INFO: PQL Export status: DONE\n",
      "[2022-03-28 21:14:27] INFO: PQL Export started...\n",
      "[2022-03-28 21:14:29] INFO: PQL Export status: DONE\n",
      "[2022-03-28 21:14:30] INFO: PQL Export started...\n",
      "[2022-03-28 21:14:30] INFO: PQL Export status: DONE\n",
      "[2022-03-28 21:14:30] INFO: PQL Export started...\n",
      "[2022-03-28 21:14:30] INFO: PQL Export status: DONE\n",
      "[2022-03-28 21:14:31] INFO: PQL Export started...\n",
      "[2022-03-28 21:14:31] INFO: PQL Export status: DONE\n",
      "[2022-03-28 21:14:31] INFO: PQL Export started...\n",
      "[2022-03-28 21:14:32] INFO: PQL Export status: DONE\n",
      "[2022-03-28 21:14:32] INFO: PQL Export started...\n",
      "[2022-03-28 21:14:32] INFO: PQL Export status: DONE\n",
      "[2022-03-28 21:14:33] INFO: PQL Export started...\n",
      "[2022-03-28 21:14:33] INFO: PQL Export status: DONE\n",
      "[2022-03-28 21:14:34] INFO: PQL Export started...\n",
      "[2022-03-28 21:14:34] INFO: PQL Export status: DONE\n",
      "[2022-03-28 21:14:34] INFO: PQL Export started...\n",
      "[2022-03-28 21:14:34] INFO: PQL Export status: DONE\n",
      "[2022-03-28 21:14:35] INFO: PQL Export started...\n",
      "[2022-03-28 21:14:35] INFO: PQL Export status: DONE\n",
      "[2022-03-28 21:14:36] INFO: PQL Export started...\n",
      "[2022-03-28 21:14:36] INFO: PQL Export status: DONE\n",
      "[2022-03-28 21:14:37] INFO: PQL Export started...\n",
      "[2022-03-28 21:14:37] INFO: PQL Export status: DONE\n",
      "[2022-03-28 21:14:37] INFO: PQL Export started...\n",
      "[2022-03-28 21:14:37] INFO: PQL Export status: DONE\n"
     ]
    },
    {
     "data": {
      "application/vnd.jupyter.widget-view+json": {
       "model_id": "70d2f6445bfc4ef699836a482e8a4a9e",
       "version_major": 2,
       "version_minor": 0
      },
      "text/plain": [
       "Tab(children=(VBox(children=(HBox(children=(Box(children=(HTML(value='<center><span style=\"font-weight:bold\"> …"
      ]
     },
     "metadata": {},
     "output_type": "display_data"
    }
   ],
   "source": [
    "analysis_case_duration.run()"
   ]
  },
  {
   "cell_type": "code",
   "execution_count": null,
   "metadata": {
    "pycharm": {
     "name": "#%%\n"
    }
   },
   "outputs": [],
   "source": []
  }
 ],
 "metadata": {
  "kernelspec": {
   "display_name": "Python 3 (ipykernel)",
   "language": "python",
   "name": "python3"
  },
  "language_info": {
   "codemirror_mode": {
    "name": "ipython",
    "version": 3
   },
   "file_extension": ".py",
   "mimetype": "text/x-python",
   "name": "python",
   "nbconvert_exporter": "python",
   "pygments_lexer": "ipython3",
   "version": "3.8.12"
  }
 },
 "nbformat": 4,
 "nbformat_minor": 1
}
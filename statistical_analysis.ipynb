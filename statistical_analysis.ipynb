{
 "cells": [
  {
   "cell_type": "code",
   "execution_count": 1,
   "metadata": {
    "collapsed": true
   },
   "outputs": [],
   "source": [
    "from preprocessing import Preprocessor\n",
    "from pycelonis import get_celonis"
   ]
  },
  {
   "cell_type": "code",
   "execution_count": 2,
   "outputs": [
    {
     "name": "stderr",
     "output_type": "stream",
     "text": [
      "[2022-02-22 20:24:20] WARNING: Argument 'key_type' not set, defaults to KeyType.APP_KEY.\n",
      "Must be one of [USER_KEY, APP_KEY]You can specify the 'key_type' argument as follows:\n",
      "from pycelonis import get_celonis\n",
      "from pycelonis.celonis_api.utils import KeyType\n",
      "\n",
      "celonis = get_celonis(key_type=KeyType.APP_KEY)\n"
     ]
    },
    {
     "name": "stdout",
     "output_type": "stream",
     "text": [
      "[2022-02-22 20:24:20] INFO: Login successful! You are using an Application Key. PyCelonis Version: 1.6.0\n",
      "[2022-02-22 20:24:20] INFO: Your key has following permissions:\n",
      "[\n",
      "    {\n",
      "        \"permissions\": [\n",
      "            \"MANAGE_PERMISSIONS\",\n",
      "            \"EDIT_ALL_SPACES\",\n",
      "            \"CREATE_SPACE\",\n",
      "            \"DELETE_ALL_SPACES\"\n",
      "        ],\n",
      "        \"serviceName\": \"package-manager\"\n",
      "    },\n",
      "    {\n",
      "        \"permissions\": [\n",
      "            \"EDIT_AGENTS\",\n",
      "            \"VIEW_AGENTS\",\n",
      "            \"REGISTER_AGENTS\",\n",
      "            \"MANAGE_PERMISSIONS\"\n",
      "        ],\n",
      "        \"serviceName\": \"workflows\"\n",
      "    },\n",
      "    {\n",
      "        \"permissions\": [\n",
      "            \"EDIT_CLIENT_SETTINGS\",\n",
      "            \"EDIT_USERS\"\n",
      "        ],\n",
      "        \"serviceName\": \"task-mining\"\n",
      "    },\n",
      "    {\n",
      "        \"permissions\": [\n",
      "            \"MANAGE_SSO_SETTINGS\",\n",
      "            \"USE_AUDIT_LOGS_API\",\n",
      "            \"MANAGE_GENERAL_SETTINGS\",\n",
      "            \"MANAGE_GROUPS\",\n",
      "            \"MANAGE_APPLICATIONS\",\n",
      "            \"MANAGE_LICENSE_SETTINGS\",\n",
      "            \"MANAGE_MEMBERS\",\n",
      "            \"MANAGE_UPLINK_INTEGRATIONS\",\n",
      "            \"MANAGE_PERMISSIONS\",\n",
      "            \"MANAGE_ADMIN_NOTIFICATIONS\",\n",
      "            \"IMPORT_MEMBERS\",\n",
      "            \"MANAGE_MEMBER_LOCKING_POLICY\"\n",
      "        ],\n",
      "        \"serviceName\": \"team\"\n",
      "    },\n",
      "    {\n",
      "        \"permissions\": [\n",
      "            \"CREATE_PROJECTS\",\n",
      "            \"MANAGE_SKILLS\",\n",
      "            \"ACCESS_ALL_PROJECTS\",\n",
      "            \"MY_INBOX\"\n",
      "        ],\n",
      "        \"serviceName\": \"action-engine\"\n",
      "    },\n",
      "    {\n",
      "        \"permissions\": [\n",
      "            \"CREATE_AND_MODIFY_CATEGORIES\",\n",
      "            \"DELETE_EXISTING_CATEGORIES\",\n",
      "            \"MODIFY_EXISTING_CATEGORIES\"\n",
      "        ],\n",
      "        \"serviceName\": \"process-repository\"\n",
      "    },\n",
      "    {\n",
      "        \"permissions\": [\n",
      "            \"DELETE_ALL_WORKSPACES\",\n",
      "            \"MOVE_TO\",\n",
      "            \"CREATE_WORKSPACE\",\n",
      "            \"DELETE_ALL_ANALYSES\",\n",
      "            \"EDIT_ALL_ANALYSES\",\n",
      "            \"EDIT_ALL_WORKSPACES\",\n",
      "            \"CREATE_ANALYSES\",\n",
      "            \"USE_ALL_ANALYSES\",\n",
      "            \"MANAGE_PERMISSIONS\",\n",
      "            \"EXPORT_CONTENT\"\n",
      "        ],\n",
      "        \"serviceName\": \"process-analytics\"\n",
      "    },\n",
      "    {\n",
      "        \"permissions\": [],\n",
      "        \"serviceName\": \"transformation-center\"\n",
      "    },\n",
      "    {\n",
      "        \"permissions\": [\n",
      "            \"DELETE\",\n",
      "            \"CREATE\",\n",
      "            \"GET\",\n",
      "            \"ADMIN\",\n",
      "            \"LIST\"\n",
      "        ],\n",
      "        \"serviceName\": \"storage-manager\"\n",
      "    },\n",
      "    {\n",
      "        \"permissions\": [\n",
      "            \"USE_ALL_DATA_MODELS\",\n",
      "            \"EDIT_ALL_DATA_POOLS\",\n",
      "            \"CREATE_DATA_POOL\"\n",
      "        ],\n",
      "        \"serviceName\": \"event-collection\"\n",
      "    },\n",
      "    {\n",
      "        \"permissions\": [\n",
      "            \"DELETE_SCHEDULERS\",\n",
      "            \"EDIT_SCHEDULERS\",\n",
      "            \"USE_ALL_SCHEDULERS\",\n",
      "            \"USE_ALL_APPS\",\n",
      "            \"CREATE_SCHEDULERS\",\n",
      "            \"MANAGE_ALL_APPS\",\n",
      "            \"CREATE_WORKSPACES\",\n",
      "            \"MANAGE_SCHEDULERS_PERMISSIONS\",\n",
      "            \"VIEW_CONFIGURATION\",\n",
      "            \"CREATE_APPS\",\n",
      "            \"MANAGE_ALL_MLFLOWS\",\n",
      "            \"CREATE_MLFLOWS\",\n",
      "            \"USE_ALL_MLFLOWS\",\n",
      "            \"MANAGE_ALL_WORKSPACES\"\n",
      "        ],\n",
      "        \"serviceName\": \"ml-workbench\"\n",
      "    },\n",
      "    {\n",
      "        \"permissions\": [],\n",
      "        \"serviceName\": \"user-provisioning\"\n",
      "    }\n",
      "]\n"
     ]
    }
   ],
   "source": [
    "login = {\n",
    "    \"celonis_url\": \"academic-michael-schulten-rwth-aachen-de.eu-2.celonis.cloud\",\n",
    "    \"api_token\": \"ODJkZDhjNmQtYTQ2Ny00NWRlLWJkMGYtZWJjY2FjOGVhYmQyOllBYlBkRXNHV2psZ1o1MDJacmlsRVU3KytxaDdLVHY5N1lBOHJQdTJnOXR0\",\n",
    "    # The following 2 lines are only necessary when connecting to CPM4.5, not for IBC:\n",
    "    # \"api_id\": \"paste_here_your_api_id\",\n",
    "    # \"username\": \"paste_here_your_username\",\n",
    "}\n",
    "celonis = get_celonis(**login)"
   ],
   "metadata": {
    "collapsed": false,
    "pycharm": {
     "name": "#%%\n"
    }
   }
  },
  {
   "cell_type": "code",
   "execution_count": 3,
   "outputs": [],
   "source": [
    "dm = celonis.datamodels.find(\"P2P_Wils_Course\")"
   ],
   "metadata": {
    "collapsed": false,
    "pycharm": {
     "name": "#%%\n"
    }
   }
  },
  {
   "cell_type": "code",
   "execution_count": 4,
   "outputs": [],
   "source": [
    "p = Preprocessor(dm)"
   ],
   "metadata": {
    "collapsed": false,
    "pycharm": {
     "name": "#%%\n"
    }
   }
  },
  {
   "cell_type": "code",
   "execution_count": 5,
   "outputs": [
    {
     "name": "stdout",
     "output_type": "stream",
     "text": [
      "[2022-02-22 20:24:24] INFO: PQL Export started...\n",
      "[2022-02-22 20:24:25] INFO: PQL Export status: DONE\n",
      "[2022-02-22 20:24:25] INFO: PQL Export started...\n",
      "[2022-02-22 20:24:25] INFO: PQL Export status: DONE\n",
      "[2022-02-22 20:24:25] INFO: PQL Export started...\n",
      "[2022-02-22 20:24:26] INFO: PQL Export status: DONE\n",
      "[2022-02-22 20:24:26] INFO: PQL Export started...\n",
      "[2022-02-22 20:24:26] INFO: PQL Export status: DONE\n",
      "[2022-02-22 20:24:27] INFO: PQL Export started...\n",
      "[2022-02-22 20:24:27] INFO: PQL Export status: DONE\n",
      "[2022-02-22 20:24:28] INFO: PQL Export started...\n",
      "[2022-02-22 20:24:28] INFO: PQL Export status: DONE\n",
      "[2022-02-22 20:24:28] INFO: PQL Export started...\n",
      "[2022-02-22 20:24:29] INFO: PQL Export status: DONE\n",
      "[2022-02-22 20:24:29] INFO: PQL Export started...\n",
      "[2022-02-22 20:24:29] INFO: PQL Export status: DONE\n",
      "[2022-02-22 20:24:29] INFO: PQL Export started...\n",
      "[2022-02-22 20:24:30] INFO: PQL Export status: DONE\n",
      "[2022-02-22 20:24:30] INFO: PQL Export started...\n",
      "[2022-02-22 20:24:30] INFO: PQL Export status: DONE\n",
      "[2022-02-22 20:24:30] INFO: PQL Export started...\n",
      "[2022-02-22 20:24:31] INFO: PQL Export status: DONE\n",
      "[2022-02-22 20:24:31] INFO: PQL Export started...\n",
      "[2022-02-22 20:24:31] INFO: PQL Export status: DONE\n",
      "[2022-02-22 20:24:32] INFO: PQL Export started...\n",
      "[2022-02-22 20:24:32] INFO: PQL Export status: DONE\n",
      "[2022-02-22 20:24:32] INFO: PQL Export started...\n",
      "[2022-02-22 20:24:34] INFO: PQL Export status: DONE\n",
      "length of static_cat_df: 812\n",
      "[2022-02-22 20:24:34] INFO: PQL Export started...\n",
      "[2022-02-22 20:24:34] INFO: PQL Export status: DONE\n",
      "length of static_num_df: 812\n",
      "[2022-02-22 20:24:34] INFO: PQL Export started...\n",
      "[2022-02-22 20:24:35] INFO: PQL Export status: DONE\n",
      "[2022-02-22 20:24:35] INFO: PQL Export started...\n",
      "[2022-02-22 20:24:35] INFO: PQL Export status: DONE\n",
      "[2022-02-22 20:24:35] INFO: PQL Export started...\n",
      "[2022-02-22 20:24:36] INFO: PQL Export status: DONE\n",
      "[2022-02-22 20:24:36] INFO: PQL Export started...\n",
      "[2022-02-22 20:24:36] INFO: PQL Export status: DONE\n",
      "length of dyn_cat_df: 812\n",
      "[2022-02-22 20:24:36] INFO: PQL Export started...\n",
      "[2022-02-22 20:24:37] INFO: PQL Export status: DONE\n",
      "length of dyn_num_df: 812\n",
      "[2022-02-22 20:24:37] INFO: PQL Export started...\n",
      "[2022-02-22 20:24:37] INFO: PQL Export status: DONE\n",
      "length of total_time_df: 812\n"
     ]
    }
   ],
   "source": [
    "df_total_time = p.run_total_time_PQL(20, time_aggregation=\"DAYS\")"
   ],
   "metadata": {
    "collapsed": false,
    "pycharm": {
     "name": "#%%\n"
    }
   }
  },
  {
   "cell_type": "code",
   "execution_count": 6,
   "outputs": [
    {
     "data": {
      "text/plain": "      caseid                    start_activity            end_activity  \\\n0     100000            Record Invoice Receipt           Clear Invoice   \n1    1000000  Create Purchase Requisition Item           Clear Invoice   \n2    1000001  Create Purchase Requisition Item           Clear Invoice   \n3    1000002  Create Purchase Requisition Item  Record Invoice Receipt   \n4    1000003  Create Purchase Requisition Item           Clear Invoice   \n..       ...                               ...                     ...   \n807  1000736        Create Purchase Order Item           Clear Invoice   \n808  1000737  Create Purchase Requisition Item           Clear Invoice   \n809  1000738  Create Purchase Requisition Item           Clear Invoice   \n810  1000739  Create Purchase Requisition Item           Clear Invoice   \n811   100074  Create Purchase Requisition Item           Clear Invoice   \n\n     @@@P2P-Activities_csv@@ACTIVITY_EN@Block Purchase Order Item  \\\n0                                                    0              \n1                                                    0              \n2                                                    0              \n3                                                    0              \n4                                                    0              \n..                                                 ...              \n807                                                  0              \n808                                                  0              \n809                                                  0              \n810                                                  0              \n811                                                  0              \n\n     @@@P2P-Activities_csv@@ACTIVITY_EN@Change Currency  \\\n0                                                    0    \n1                                                    0    \n2                                                    0    \n3                                                    0    \n4                                                    0    \n..                                                 ...    \n807                                                  0    \n808                                                  0    \n809                                                  0    \n810                                                  0    \n811                                                  0    \n\n     @@@P2P-Activities_csv@@ACTIVITY_EN@Change Price  \\\n0                                                  0   \n1                                                  0   \n2                                                  0   \n3                                                  0   \n4                                                  0   \n..                                               ...   \n807                                                0   \n808                                                0   \n809                                                0   \n810                                                0   \n811                                                0   \n\n     @@@P2P-Activities_csv@@ACTIVITY_EN@Clear Invoice  \\\n0                                                   1   \n1                                                   1   \n2                                                   1   \n3                                                   1   \n4                                                   1   \n..                                                ...   \n807                                                 1   \n808                                                 1   \n809                                                 1   \n810                                                 1   \n811                                                 1   \n\n     @@@P2P-Activities_csv@@ACTIVITY_EN@Create Purchase Order Item  \\\n0                                                    1               \n1                                                    1               \n2                                                    1               \n3                                                    1               \n4                                                    1               \n..                                                 ...               \n807                                                  1               \n808                                                  1               \n809                                                  1               \n810                                                  1               \n811                                                  1               \n\n     @@@P2P-Activities_csv@@ACTIVITY_EN@Create Purchase Requisition Item  \\\n0                                                    0                     \n1                                                    1                     \n2                                                    1                     \n3                                                    1                     \n4                                                    1                     \n..                                                 ...                     \n807                                                  0                     \n808                                                  1                     \n809                                                  1                     \n810                                                  1                     \n811                                                  1                     \n\n     @@@P2P-Activities_csv@@ACTIVITY_EN@Delete Purchase Order Item  ...  \\\n0                                                    0              ...   \n1                                                    0              ...   \n2                                                    0              ...   \n3                                                    0              ...   \n4                                                    0              ...   \n..                                                 ...              ...   \n807                                                  0              ...   \n808                                                  0              ...   \n809                                                  0              ...   \n810                                                  0              ...   \n811                                                  0              ...   \n\n     @@@P2P-Activities_csv@@USER_NAME@Rona Hennis  \\\n0                                               0   \n1                                               0   \n2                                               0   \n3                                               0   \n4                                               0   \n..                                            ...   \n807                                             0   \n808                                             0   \n809                                             0   \n810                                             0   \n811                                             0   \n\n     @@@P2P-Activities_csv@@USER_NAME@Roy Ortego  \\\n0                                              0   \n1                                              0   \n2                                              0   \n3                                              0   \n4                                              0   \n..                                           ...   \n807                                            0   \n808                                            0   \n809                                            0   \n810                                            0   \n811                                            0   \n\n     @@@P2P-Activities_csv@@USER_NAME@Suellen Noecker  \\\n0                                                   0   \n1                                                   0   \n2                                                   0   \n3                                                   0   \n4                                                   0   \n..                                                ...   \n807                                                 0   \n808                                                 1   \n809                                                 0   \n810                                                 0   \n811                                                 0   \n\n     @@@P2P-Activities_csv@@USER_NAME@Summer Fusaro  \\\n0                                                 0   \n1                                                 0   \n2                                                 1   \n3                                                 0   \n4                                                 0   \n..                                              ...   \n807                                               0   \n808                                               0   \n809                                               0   \n810                                               0   \n811                                               0   \n\n     @@@P2P-Activities_csv@@USER_NAME@Tasia Snelgrove  \\\n0                                                   0   \n1                                                   0   \n2                                                   1   \n3                                                   0   \n4                                                   0   \n..                                                ...   \n807                                                 0   \n808                                                 0   \n809                                                 0   \n810                                                 0   \n811                                                 0   \n\n     @@@P2P-Activities_csv@@USER_NAME@Toby Narvaez  \\\n0                                                0   \n1                                                0   \n2                                                1   \n3                                                1   \n4                                                0   \n..                                             ...   \n807                                              0   \n808                                              0   \n809                                              0   \n810                                              0   \n811                                              0   \n\n     @@@P2P-Activities_csv@@USER_NAME@Yanira Gorrfried  \\\n0                                                    0   \n1                                                    0   \n2                                                    0   \n3                                                    0   \n4                                                    0   \n..                                                 ...   \n807                                                  0   \n808                                                  0   \n809                                                  0   \n810                                                  0   \n811                                                  0   \n\n     @@@P2P-Activities_csv@@USER TYPE@A  @@@P2P-Activities_csv@@USER TYPE@B  \\\n0                                     1                                   4   \n1                                     1                                   6   \n2                                     4                                   4   \n3                                     4                                   4   \n4                                     2                                   6   \n..                                  ...                                 ...   \n807                                   2                                   3   \n808                                   2                                   5   \n809                                   3                                   4   \n810                                   4                                   4   \n811                                   4                                   2   \n\n     case duration  \n0               24  \n1               21  \n2               27  \n3               25  \n4               38  \n..             ...  \n807             23  \n808             23  \n809             26  \n810             28  \n811             26  \n\n[812 rows x 149 columns]",
      "text/html": "<div>\n<style scoped>\n    .dataframe tbody tr th:only-of-type {\n        vertical-align: middle;\n    }\n\n    .dataframe tbody tr th {\n        vertical-align: top;\n    }\n\n    .dataframe thead th {\n        text-align: right;\n    }\n</style>\n<table border=\"1\" class=\"dataframe\">\n  <thead>\n    <tr style=\"text-align: right;\">\n      <th></th>\n      <th>caseid</th>\n      <th>start_activity</th>\n      <th>end_activity</th>\n      <th>@@@P2P-Activities_csv@@ACTIVITY_EN@Block Purchase Order Item</th>\n      <th>@@@P2P-Activities_csv@@ACTIVITY_EN@Change Currency</th>\n      <th>@@@P2P-Activities_csv@@ACTIVITY_EN@Change Price</th>\n      <th>@@@P2P-Activities_csv@@ACTIVITY_EN@Clear Invoice</th>\n      <th>@@@P2P-Activities_csv@@ACTIVITY_EN@Create Purchase Order Item</th>\n      <th>@@@P2P-Activities_csv@@ACTIVITY_EN@Create Purchase Requisition Item</th>\n      <th>@@@P2P-Activities_csv@@ACTIVITY_EN@Delete Purchase Order Item</th>\n      <th>...</th>\n      <th>@@@P2P-Activities_csv@@USER_NAME@Rona Hennis</th>\n      <th>@@@P2P-Activities_csv@@USER_NAME@Roy Ortego</th>\n      <th>@@@P2P-Activities_csv@@USER_NAME@Suellen Noecker</th>\n      <th>@@@P2P-Activities_csv@@USER_NAME@Summer Fusaro</th>\n      <th>@@@P2P-Activities_csv@@USER_NAME@Tasia Snelgrove</th>\n      <th>@@@P2P-Activities_csv@@USER_NAME@Toby Narvaez</th>\n      <th>@@@P2P-Activities_csv@@USER_NAME@Yanira Gorrfried</th>\n      <th>@@@P2P-Activities_csv@@USER TYPE@A</th>\n      <th>@@@P2P-Activities_csv@@USER TYPE@B</th>\n      <th>case duration</th>\n    </tr>\n  </thead>\n  <tbody>\n    <tr>\n      <th>0</th>\n      <td>100000</td>\n      <td>Record Invoice Receipt</td>\n      <td>Clear Invoice</td>\n      <td>0</td>\n      <td>0</td>\n      <td>0</td>\n      <td>1</td>\n      <td>1</td>\n      <td>0</td>\n      <td>0</td>\n      <td>...</td>\n      <td>0</td>\n      <td>0</td>\n      <td>0</td>\n      <td>0</td>\n      <td>0</td>\n      <td>0</td>\n      <td>0</td>\n      <td>1</td>\n      <td>4</td>\n      <td>24</td>\n    </tr>\n    <tr>\n      <th>1</th>\n      <td>1000000</td>\n      <td>Create Purchase Requisition Item</td>\n      <td>Clear Invoice</td>\n      <td>0</td>\n      <td>0</td>\n      <td>0</td>\n      <td>1</td>\n      <td>1</td>\n      <td>1</td>\n      <td>0</td>\n      <td>...</td>\n      <td>0</td>\n      <td>0</td>\n      <td>0</td>\n      <td>0</td>\n      <td>0</td>\n      <td>0</td>\n      <td>0</td>\n      <td>1</td>\n      <td>6</td>\n      <td>21</td>\n    </tr>\n    <tr>\n      <th>2</th>\n      <td>1000001</td>\n      <td>Create Purchase Requisition Item</td>\n      <td>Clear Invoice</td>\n      <td>0</td>\n      <td>0</td>\n      <td>0</td>\n      <td>1</td>\n      <td>1</td>\n      <td>1</td>\n      <td>0</td>\n      <td>...</td>\n      <td>0</td>\n      <td>0</td>\n      <td>0</td>\n      <td>1</td>\n      <td>1</td>\n      <td>1</td>\n      <td>0</td>\n      <td>4</td>\n      <td>4</td>\n      <td>27</td>\n    </tr>\n    <tr>\n      <th>3</th>\n      <td>1000002</td>\n      <td>Create Purchase Requisition Item</td>\n      <td>Record Invoice Receipt</td>\n      <td>0</td>\n      <td>0</td>\n      <td>0</td>\n      <td>1</td>\n      <td>1</td>\n      <td>1</td>\n      <td>0</td>\n      <td>...</td>\n      <td>0</td>\n      <td>0</td>\n      <td>0</td>\n      <td>0</td>\n      <td>0</td>\n      <td>1</td>\n      <td>0</td>\n      <td>4</td>\n      <td>4</td>\n      <td>25</td>\n    </tr>\n    <tr>\n      <th>4</th>\n      <td>1000003</td>\n      <td>Create Purchase Requisition Item</td>\n      <td>Clear Invoice</td>\n      <td>0</td>\n      <td>0</td>\n      <td>0</td>\n      <td>1</td>\n      <td>1</td>\n      <td>1</td>\n      <td>0</td>\n      <td>...</td>\n      <td>0</td>\n      <td>0</td>\n      <td>0</td>\n      <td>0</td>\n      <td>0</td>\n      <td>0</td>\n      <td>0</td>\n      <td>2</td>\n      <td>6</td>\n      <td>38</td>\n    </tr>\n    <tr>\n      <th>...</th>\n      <td>...</td>\n      <td>...</td>\n      <td>...</td>\n      <td>...</td>\n      <td>...</td>\n      <td>...</td>\n      <td>...</td>\n      <td>...</td>\n      <td>...</td>\n      <td>...</td>\n      <td>...</td>\n      <td>...</td>\n      <td>...</td>\n      <td>...</td>\n      <td>...</td>\n      <td>...</td>\n      <td>...</td>\n      <td>...</td>\n      <td>...</td>\n      <td>...</td>\n      <td>...</td>\n    </tr>\n    <tr>\n      <th>807</th>\n      <td>1000736</td>\n      <td>Create Purchase Order Item</td>\n      <td>Clear Invoice</td>\n      <td>0</td>\n      <td>0</td>\n      <td>0</td>\n      <td>1</td>\n      <td>1</td>\n      <td>0</td>\n      <td>0</td>\n      <td>...</td>\n      <td>0</td>\n      <td>0</td>\n      <td>0</td>\n      <td>0</td>\n      <td>0</td>\n      <td>0</td>\n      <td>0</td>\n      <td>2</td>\n      <td>3</td>\n      <td>23</td>\n    </tr>\n    <tr>\n      <th>808</th>\n      <td>1000737</td>\n      <td>Create Purchase Requisition Item</td>\n      <td>Clear Invoice</td>\n      <td>0</td>\n      <td>0</td>\n      <td>0</td>\n      <td>1</td>\n      <td>1</td>\n      <td>1</td>\n      <td>0</td>\n      <td>...</td>\n      <td>0</td>\n      <td>0</td>\n      <td>1</td>\n      <td>0</td>\n      <td>0</td>\n      <td>0</td>\n      <td>0</td>\n      <td>2</td>\n      <td>5</td>\n      <td>23</td>\n    </tr>\n    <tr>\n      <th>809</th>\n      <td>1000738</td>\n      <td>Create Purchase Requisition Item</td>\n      <td>Clear Invoice</td>\n      <td>0</td>\n      <td>0</td>\n      <td>0</td>\n      <td>1</td>\n      <td>1</td>\n      <td>1</td>\n      <td>0</td>\n      <td>...</td>\n      <td>0</td>\n      <td>0</td>\n      <td>0</td>\n      <td>0</td>\n      <td>0</td>\n      <td>0</td>\n      <td>0</td>\n      <td>3</td>\n      <td>4</td>\n      <td>26</td>\n    </tr>\n    <tr>\n      <th>810</th>\n      <td>1000739</td>\n      <td>Create Purchase Requisition Item</td>\n      <td>Clear Invoice</td>\n      <td>0</td>\n      <td>0</td>\n      <td>0</td>\n      <td>1</td>\n      <td>1</td>\n      <td>1</td>\n      <td>0</td>\n      <td>...</td>\n      <td>0</td>\n      <td>0</td>\n      <td>0</td>\n      <td>0</td>\n      <td>0</td>\n      <td>0</td>\n      <td>0</td>\n      <td>4</td>\n      <td>4</td>\n      <td>28</td>\n    </tr>\n    <tr>\n      <th>811</th>\n      <td>100074</td>\n      <td>Create Purchase Requisition Item</td>\n      <td>Clear Invoice</td>\n      <td>0</td>\n      <td>0</td>\n      <td>0</td>\n      <td>1</td>\n      <td>1</td>\n      <td>1</td>\n      <td>0</td>\n      <td>...</td>\n      <td>0</td>\n      <td>0</td>\n      <td>0</td>\n      <td>0</td>\n      <td>0</td>\n      <td>0</td>\n      <td>0</td>\n      <td>4</td>\n      <td>2</td>\n      <td>26</td>\n    </tr>\n  </tbody>\n</table>\n<p>812 rows × 149 columns</p>\n</div>"
     },
     "execution_count": 6,
     "metadata": {},
     "output_type": "execute_result"
    }
   ],
   "source": [
    "df_total_time"
   ],
   "metadata": {
    "collapsed": false,
    "pycharm": {
     "name": "#%%\n"
    }
   }
  },
  {
   "cell_type": "code",
   "execution_count": null,
   "outputs": [],
   "source": [],
   "metadata": {
    "collapsed": false,
    "pycharm": {
     "name": "#%%\n"
    }
   }
  }
 ],
 "metadata": {
  "kernelspec": {
   "display_name": "Python 3",
   "language": "python",
   "name": "python3"
  },
  "language_info": {
   "codemirror_mode": {
    "name": "ipython",
    "version": 2
   },
   "file_extension": ".py",
   "mimetype": "text/x-python",
   "name": "python",
   "nbconvert_exporter": "python",
   "pygments_lexer": "ipython2",
   "version": "2.7.6"
  }
 },
 "nbformat": 4,
 "nbformat_minor": 0
}
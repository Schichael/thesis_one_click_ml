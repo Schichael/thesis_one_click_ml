{
 "cells": [
  {
   "cell_type": "code",
   "execution_count": 5,
   "metadata": {
    "collapsed": true
   },
   "outputs": [],
   "source": [
    "from abc import ABC\n",
    "\n",
    "from preprocessing import Preprocessor\n",
    "from pycelonis import get_celonis"
   ]
  },
  {
   "cell_type": "code",
   "execution_count": 6,
   "outputs": [
    {
     "name": "stderr",
     "output_type": "stream",
     "text": [
      "[2022-02-24 14:54:14] WARNING: Argument 'key_type' not set, defaults to KeyType.APP_KEY.\n",
      "Must be one of [USER_KEY, APP_KEY]You can specify the 'key_type' argument as follows:\n",
      "from pycelonis import get_celonis\n",
      "from pycelonis.celonis_api.utils import KeyType\n",
      "\n",
      "celonis = get_celonis(key_type=KeyType.APP_KEY)\n"
     ]
    },
    {
     "name": "stdout",
     "output_type": "stream",
     "text": [
      "[2022-02-24 14:54:15] INFO: Login successful! You are using an Application Key. PyCelonis Version: 1.6.0\n",
      "[2022-02-24 14:54:15] INFO: Your key has following permissions:\n",
      "[\n",
      "    {\n",
      "        \"permissions\": [\n",
      "            \"MANAGE_PERMISSIONS\",\n",
      "            \"EDIT_ALL_SPACES\",\n",
      "            \"CREATE_SPACE\",\n",
      "            \"DELETE_ALL_SPACES\"\n",
      "        ],\n",
      "        \"serviceName\": \"package-manager\"\n",
      "    },\n",
      "    {\n",
      "        \"permissions\": [\n",
      "            \"EDIT_AGENTS\",\n",
      "            \"VIEW_AGENTS\",\n",
      "            \"REGISTER_AGENTS\",\n",
      "            \"MANAGE_PERMISSIONS\"\n",
      "        ],\n",
      "        \"serviceName\": \"workflows\"\n",
      "    },\n",
      "    {\n",
      "        \"permissions\": [\n",
      "            \"EDIT_CLIENT_SETTINGS\",\n",
      "            \"EDIT_USERS\"\n",
      "        ],\n",
      "        \"serviceName\": \"task-mining\"\n",
      "    },\n",
      "    {\n",
      "        \"permissions\": [\n",
      "            \"MANAGE_SSO_SETTINGS\",\n",
      "            \"USE_AUDIT_LOGS_API\",\n",
      "            \"MANAGE_GENERAL_SETTINGS\",\n",
      "            \"MANAGE_GROUPS\",\n",
      "            \"MANAGE_APPLICATIONS\",\n",
      "            \"MANAGE_LICENSE_SETTINGS\",\n",
      "            \"MANAGE_MEMBERS\",\n",
      "            \"MANAGE_UPLINK_INTEGRATIONS\",\n",
      "            \"MANAGE_PERMISSIONS\",\n",
      "            \"MANAGE_ADMIN_NOTIFICATIONS\",\n",
      "            \"IMPORT_MEMBERS\",\n",
      "            \"MANAGE_MEMBER_LOCKING_POLICY\"\n",
      "        ],\n",
      "        \"serviceName\": \"team\"\n",
      "    },\n",
      "    {\n",
      "        \"permissions\": [\n",
      "            \"CREATE_PROJECTS\",\n",
      "            \"MANAGE_SKILLS\",\n",
      "            \"ACCESS_ALL_PROJECTS\",\n",
      "            \"MY_INBOX\"\n",
      "        ],\n",
      "        \"serviceName\": \"action-engine\"\n",
      "    },\n",
      "    {\n",
      "        \"permissions\": [\n",
      "            \"CREATE_AND_MODIFY_CATEGORIES\",\n",
      "            \"DELETE_EXISTING_CATEGORIES\",\n",
      "            \"MODIFY_EXISTING_CATEGORIES\"\n",
      "        ],\n",
      "        \"serviceName\": \"process-repository\"\n",
      "    },\n",
      "    {\n",
      "        \"permissions\": [\n",
      "            \"DELETE_ALL_WORKSPACES\",\n",
      "            \"MOVE_TO\",\n",
      "            \"CREATE_WORKSPACE\",\n",
      "            \"DELETE_ALL_ANALYSES\",\n",
      "            \"EDIT_ALL_ANALYSES\",\n",
      "            \"EDIT_ALL_WORKSPACES\",\n",
      "            \"CREATE_ANALYSES\",\n",
      "            \"USE_ALL_ANALYSES\",\n",
      "            \"MANAGE_PERMISSIONS\",\n",
      "            \"EXPORT_CONTENT\"\n",
      "        ],\n",
      "        \"serviceName\": \"process-analytics\"\n",
      "    },\n",
      "    {\n",
      "        \"permissions\": [],\n",
      "        \"serviceName\": \"transformation-center\"\n",
      "    },\n",
      "    {\n",
      "        \"permissions\": [\n",
      "            \"DELETE\",\n",
      "            \"CREATE\",\n",
      "            \"GET\",\n",
      "            \"ADMIN\",\n",
      "            \"LIST\"\n",
      "        ],\n",
      "        \"serviceName\": \"storage-manager\"\n",
      "    },\n",
      "    {\n",
      "        \"permissions\": [\n",
      "            \"USE_ALL_DATA_MODELS\",\n",
      "            \"EDIT_ALL_DATA_POOLS\",\n",
      "            \"CREATE_DATA_POOL\"\n",
      "        ],\n",
      "        \"serviceName\": \"event-collection\"\n",
      "    },\n",
      "    {\n",
      "        \"permissions\": [\n",
      "            \"DELETE_SCHEDULERS\",\n",
      "            \"EDIT_SCHEDULERS\",\n",
      "            \"USE_ALL_SCHEDULERS\",\n",
      "            \"USE_ALL_APPS\",\n",
      "            \"CREATE_SCHEDULERS\",\n",
      "            \"MANAGE_ALL_APPS\",\n",
      "            \"CREATE_WORKSPACES\",\n",
      "            \"MANAGE_SCHEDULERS_PERMISSIONS\",\n",
      "            \"VIEW_CONFIGURATION\",\n",
      "            \"CREATE_APPS\",\n",
      "            \"MANAGE_ALL_MLFLOWS\",\n",
      "            \"CREATE_MLFLOWS\",\n",
      "            \"USE_ALL_MLFLOWS\",\n",
      "            \"MANAGE_ALL_WORKSPACES\"\n",
      "        ],\n",
      "        \"serviceName\": \"ml-workbench\"\n",
      "    },\n",
      "    {\n",
      "        \"permissions\": [],\n",
      "        \"serviceName\": \"user-provisioning\"\n",
      "    }\n",
      "]\n"
     ]
    }
   ],
   "source": [
    "login = {\n",
    "    \"celonis_url\": \"academic-michael-schulten-rwth-aachen-de.eu-2.celonis.cloud\",\n",
    "    \"api_token\": \"ODJkZDhjNmQtYTQ2Ny00NWRlLWJkMGYtZWJjY2FjOGVhYmQyOllBYlBkRXNHV2psZ1o1MDJacmlsRVU3KytxaDdLVHY5N1lBOHJQdTJnOXR0\",\n",
    "    # The following 2 lines are only necessary when connecting to CPM4.5, not for IBC:\n",
    "    # \"api_id\": \"paste_here_your_api_id\",\n",
    "    # \"username\": \"paste_here_your_username\",\n",
    "}\n",
    "celonis = get_celonis(**login)"
   ],
   "metadata": {
    "collapsed": false,
    "pycharm": {
     "name": "#%%\n"
    }
   }
  },
  {
   "cell_type": "code",
   "execution_count": 7,
   "outputs": [],
   "source": [
    "dm = celonis.datamodels.find(\"P2P_Wils_Course\")"
   ],
   "metadata": {
    "collapsed": false,
    "pycharm": {
     "name": "#%%\n"
    }
   }
  },
  {
   "cell_type": "code",
   "execution_count": 11,
   "outputs": [],
   "source": [
    "p = Preprocessor(dm)"
   ],
   "metadata": {
    "collapsed": false,
    "pycharm": {
     "name": "#%%\n"
    }
   }
  },
  {
   "cell_type": "code",
   "execution_count": 12,
   "outputs": [
    {
     "name": "stdout",
     "output_type": "stream",
     "text": [
      "[2022-02-24 14:55:25] INFO: PQL Export started...\n",
      "[2022-02-24 14:55:25] INFO: PQL Export status: DONE\n",
      "[2022-02-24 14:55:25] INFO: PQL Export started...\n",
      "[2022-02-24 14:55:25] INFO: PQL Export status: DONE\n",
      "[2022-02-24 14:55:26] INFO: PQL Export started...\n",
      "[2022-02-24 14:55:26] INFO: PQL Export status: DONE\n",
      "[2022-02-24 14:55:26] INFO: PQL Export started...\n",
      "[2022-02-24 14:55:26] INFO: PQL Export status: DONE\n",
      "[2022-02-24 14:55:27] INFO: PQL Export started...\n",
      "[2022-02-24 14:55:27] INFO: PQL Export status: DONE\n",
      "[2022-02-24 14:55:27] INFO: PQL Export started...\n",
      "[2022-02-24 14:55:27] INFO: PQL Export status: DONE\n",
      "[2022-02-24 14:55:29] INFO: PQL Export started...\n",
      "[2022-02-24 14:55:29] INFO: PQL Export status: DONE\n",
      "[2022-02-24 14:55:29] INFO: PQL Export started...\n",
      "[2022-02-24 14:55:30] INFO: PQL Export status: DONE\n",
      "[2022-02-24 14:55:31] INFO: PQL Export started...\n",
      "[2022-02-24 14:55:31] INFO: PQL Export status: DONE\n",
      "[2022-02-24 14:55:31] INFO: PQL Export started...\n",
      "[2022-02-24 14:55:32] INFO: PQL Export status: DONE\n",
      "[2022-02-24 14:55:32] INFO: PQL Export started...\n",
      "[2022-02-24 14:55:32] INFO: PQL Export status: DONE\n",
      "[2022-02-24 14:55:32] INFO: PQL Export started...\n",
      "[2022-02-24 14:55:33] INFO: PQL Export status: DONE\n",
      "[2022-02-24 14:55:33] INFO: PQL Export started...\n",
      "[2022-02-24 14:55:33] INFO: PQL Export status: DONE\n",
      "[2022-02-24 14:55:34] INFO: PQL Export started...\n",
      "[2022-02-24 14:55:34] INFO: PQL Export status: DONE\n",
      "[2022-02-24 14:55:34] INFO: PQL Export started...\n",
      "[2022-02-24 14:55:34] INFO: PQL Export status: DONE\n",
      "[2022-02-24 14:55:35] INFO: PQL Export started...\n",
      "[2022-02-24 14:55:36] INFO: PQL Export status: DONE\n",
      "length of static_cat_df: 812\n",
      "[2022-02-24 14:55:37] INFO: PQL Export started...\n",
      "[2022-02-24 14:55:37] INFO: PQL Export status: DONE\n",
      "length of static_num_df: 812\n",
      "[2022-02-24 14:55:37] INFO: PQL Export started...\n",
      "[2022-02-24 14:55:37] INFO: PQL Export status: DONE\n",
      "[2022-02-24 14:55:38] INFO: PQL Export started...\n",
      "[2022-02-24 14:55:38] INFO: PQL Export status: DONE\n",
      "[2022-02-24 14:55:38] INFO: PQL Export started...\n",
      "[2022-02-24 14:55:39] INFO: PQL Export status: DONE\n",
      "[2022-02-24 14:55:39] INFO: PQL Export started...\n",
      "[2022-02-24 14:55:40] INFO: PQL Export status: DONE\n",
      "length of dyn_cat_df: 812\n",
      "[2022-02-24 14:55:41] INFO: PQL Export started...\n",
      "[2022-02-24 14:55:41] INFO: PQL Export status: DONE\n",
      "length of dyn_num_df: 812\n",
      "[2022-02-24 14:55:41] INFO: PQL Export started...\n",
      "[2022-02-24 14:55:41] INFO: PQL Export status: DONE\n",
      "length of total_time_df: 812\n"
     ]
    }
   ],
   "source": [
    "df_total_time = p.run_total_time_PQL(20, time_aggregation=\"DAYS\")"
   ],
   "metadata": {
    "collapsed": false,
    "pycharm": {
     "name": "#%%\n"
    }
   }
  },
  {
   "cell_type": "code",
   "execution_count": 7,
   "outputs": [],
   "source": [
    "p.attributes.sort()"
   ],
   "metadata": {
    "collapsed": false,
    "pycharm": {
     "name": "#%%\n"
    }
   }
  },
  {
   "cell_type": "code",
   "execution_count": 13,
   "outputs": [],
   "source": [
    "sorted_by_cor = sorted(p.attributes, key=lambda x: x.correlation, reverse=True)\n"
   ],
   "metadata": {
    "collapsed": false,
    "pycharm": {
     "name": "#%%\n"
    }
   }
  },
  {
   "cell_type": "code",
   "execution_count": 14,
   "outputs": [
    {
     "data": {
      "text/plain": "[Attribute(major_attribute_type=<MajorAttribute.ACTIVITY: 'Activity'>, minor_attribute_type='Activity occurence', attribute_data_type=<AttributeDataType.CATEGORICAL: 'categorical'>, df_attribute_name='P2P-Activities_csv_ACTIVITY_EN_Clear Invoice (occurence)', display_name='P2P-Activities_csv.ACTIVITY_EN = Clear Invoice (occurence)', correlation=0.5728389262904271, p_val=1.0, unit='', label_influence=22.176684397163122, cases_with_attribute=None),\n Attribute(major_attribute_type=<MajorAttribute.ACTIVITY: 'Activity'>, minor_attribute_type='Activity occurence', attribute_data_type=<AttributeDataType.CATEGORICAL: 'categorical'>, df_attribute_name='P2P-Activities_csv_ACTIVITY_EN_Create Purchase Order Item (occurence)', display_name='P2P-Activities_csv.ACTIVITY_EN = Create Purchase Order Item (occurence)', correlation=nan, p_val=1.0, unit='', label_influence=nan, cases_with_attribute=None),\n Attribute(major_attribute_type=<MajorAttribute.ACTIVITY: 'Activity'>, minor_attribute_type='Activity occurence', attribute_data_type=<AttributeDataType.CATEGORICAL: 'categorical'>, df_attribute_name='P2P-Activities_csv_ACTIVITY_EN_Record Goods Receipt (occurence)', display_name='P2P-Activities_csv.ACTIVITY_EN = Record Goods Receipt (occurence)', correlation=0.5728389262904271, p_val=1.0, unit='', label_influence=22.176684397163122, cases_with_attribute=None),\n Attribute(major_attribute_type=<MajorAttribute.ACTIVITY: 'Activity'>, minor_attribute_type='Activity occurence', attribute_data_type=<AttributeDataType.CATEGORICAL: 'categorical'>, df_attribute_name='P2P-Activities_csv_ACTIVITY_EN_Record Invoice Receipt (occurence)', display_name='P2P-Activities_csv.ACTIVITY_EN = Record Invoice Receipt (occurence)', correlation=0.5728389262904271, p_val=1.0, unit='', label_influence=22.176684397163122, cases_with_attribute=None),\n Attribute(major_attribute_type=<MajorAttribute.ACTIVITY: 'Activity'>, minor_attribute_type='Rework', attribute_data_type=<AttributeDataType.CATEGORICAL: 'categorical'>, df_attribute_name='P2P-Activities_csv_ACTIVITY_EN_Clear Invoice (rework)', display_name='P2P-Activities_csv.ACTIVITY_EN = Clear Invoice (rework)', correlation=0.5728389262904271, p_val=1.0, unit='', label_influence=22.176684397163122, cases_with_attribute=None),\n Attribute(major_attribute_type=<MajorAttribute.ACTIVITY: 'Activity'>, minor_attribute_type='Rework', attribute_data_type=<AttributeDataType.CATEGORICAL: 'categorical'>, df_attribute_name='P2P-Activities_csv_ACTIVITY_EN_Create Purchase Order Item (rework)', display_name='P2P-Activities_csv.ACTIVITY_EN = Create Purchase Order Item (rework)', correlation=nan, p_val=1.0, unit='', label_influence=nan, cases_with_attribute=None),\n Attribute(major_attribute_type=<MajorAttribute.ACTIVITY: 'Activity'>, minor_attribute_type='Rework', attribute_data_type=<AttributeDataType.CATEGORICAL: 'categorical'>, df_attribute_name='P2P-Activities_csv_ACTIVITY_EN_Record Goods Receipt (rework)', display_name='P2P-Activities_csv.ACTIVITY_EN = Record Goods Receipt (rework)', correlation=0.5728389262904271, p_val=1.0, unit='', label_influence=22.176684397163122, cases_with_attribute=None),\n Attribute(major_attribute_type=<MajorAttribute.ACTIVITY: 'Activity'>, minor_attribute_type='Rework', attribute_data_type=<AttributeDataType.CATEGORICAL: 'categorical'>, df_attribute_name='P2P-Activities_csv_ACTIVITY_EN_Record Invoice Receipt (rework)', display_name='P2P-Activities_csv.ACTIVITY_EN = Record Invoice Receipt (rework)', correlation=0.5728389262904271, p_val=1.0, unit='', label_influence=22.176684397163122, cases_with_attribute=None),\n Attribute(major_attribute_type=<MajorAttribute.ACTIVITY: 'Activity'>, minor_attribute_type='Activity Table column', attribute_data_type=<AttributeDataType.CATEGORICAL: 'categorical'>, df_attribute_name='P2P-Activities_csv_ACTIVITY_EN_Clear Invoice', display_name='P2P-Activities_csv.ACTIVITY_EN = Clear Invoice', correlation=0.5728389262904271, p_val=1.0, unit='', label_influence=22.176684397163122, cases_with_attribute=None),\n Attribute(major_attribute_type=<MajorAttribute.ACTIVITY: 'Activity'>, minor_attribute_type='Activity Table column', attribute_data_type=<AttributeDataType.CATEGORICAL: 'categorical'>, df_attribute_name='P2P-Activities_csv_USER TYPE_A', display_name='P2P-Activities_csv.USER TYPE = A', correlation=0.5346314935332501, p_val=1.0, unit='', label_influence=1.4514106583072106, cases_with_attribute=None),\n Attribute(major_attribute_type=<MajorAttribute.ACTIVITY: 'Activity'>, minor_attribute_type='Activity occurence', attribute_data_type=<AttributeDataType.CATEGORICAL: 'categorical'>, df_attribute_name='P2P-Activities_csv_ACTIVITY_EN_Send Purchase Order (occurence)', display_name='P2P-Activities_csv.ACTIVITY_EN = Send Purchase Order (occurence)', correlation=0.4072634841459496, p_val=1.0, unit='', label_influence=26.610101010101012, cases_with_attribute=None),\n Attribute(major_attribute_type=<MajorAttribute.ACTIVITY: 'Activity'>, minor_attribute_type='Rework', attribute_data_type=<AttributeDataType.CATEGORICAL: 'categorical'>, df_attribute_name='P2P-Activities_csv_ACTIVITY_EN_Send Purchase Order (rework)', display_name='P2P-Activities_csv.ACTIVITY_EN = Send Purchase Order (rework)', correlation=0.4072634841459496, p_val=1.0, unit='', label_influence=26.610101010101012, cases_with_attribute=None),\n Attribute(major_attribute_type=<MajorAttribute.ACTIVITY: 'Activity'>, minor_attribute_type='Activity Table column', attribute_data_type=<AttributeDataType.CATEGORICAL: 'categorical'>, df_attribute_name='P2P-Activities_csv_ACTIVITY_EN_Send Purchase Order', display_name='P2P-Activities_csv.ACTIVITY_EN = Send Purchase Order', correlation=0.4072634841459496, p_val=1.0, unit='', label_influence=26.610101010101012, cases_with_attribute=None),\n Attribute(major_attribute_type=<MajorAttribute.ACTIVITY: 'Activity'>, minor_attribute_type='Activity occurence', attribute_data_type=<AttributeDataType.CATEGORICAL: 'categorical'>, df_attribute_name='P2P-Activities_csv_ACTIVITY_EN_Change Price (occurence)', display_name='P2P-Activities_csv.ACTIVITY_EN = Change Price (occurence)', correlation=0.3366781530227639, p_val=1.0, unit='', label_influence=9.963196063196065, cases_with_attribute=None),\n Attribute(major_attribute_type=<MajorAttribute.ACTIVITY: 'Activity'>, minor_attribute_type='Rework', attribute_data_type=<AttributeDataType.CATEGORICAL: 'categorical'>, df_attribute_name='P2P-Activities_csv_ACTIVITY_EN_Change Price (rework)', display_name='P2P-Activities_csv.ACTIVITY_EN = Change Price (rework)', correlation=0.3366781530227639, p_val=1.0, unit='', label_influence=9.963196063196065, cases_with_attribute=None),\n Attribute(major_attribute_type=<MajorAttribute.ACTIVITY: 'Activity'>, minor_attribute_type='Activity Table column', attribute_data_type=<AttributeDataType.CATEGORICAL: 'categorical'>, df_attribute_name='P2P-Activities_csv_ACTIVITY_EN_Change Price', display_name='P2P-Activities_csv.ACTIVITY_EN = Change Price', correlation=0.3366781530227639, p_val=1.0, unit='', label_influence=9.963196063196065, cases_with_attribute=None),\n Attribute(major_attribute_type=<MajorAttribute.CASE: 'Case'>, minor_attribute_type='Case Table column', attribute_data_type=<AttributeDataType.CATEGORICAL: 'categorical'>, df_attribute_name='P2P-Cases_new_ID_csv_CURRENCY_EUR', display_name='P2P-Cases_new_ID_csv.CURRENCY = EUR', correlation=0.21212367718807074, p_val=1.0, unit='', label_influence=4.42186094332348, cases_with_attribute=None),\n Attribute(major_attribute_type=<MajorAttribute.ACTIVITY: 'Activity'>, minor_attribute_type='Activity occurence', attribute_data_type=<AttributeDataType.CATEGORICAL: 'categorical'>, df_attribute_name='P2P-Activities_csv_ACTIVITY_EN_Remove Payment Block (occurence)', display_name='P2P-Activities_csv.ACTIVITY_EN = Remove Payment Block (occurence)', correlation=0.19999104398170656, p_val=1.0, unit='', label_influence=13.067171717171718, cases_with_attribute=None),\n Attribute(major_attribute_type=<MajorAttribute.ACTIVITY: 'Activity'>, minor_attribute_type='Activity occurence', attribute_data_type=<AttributeDataType.CATEGORICAL: 'categorical'>, df_attribute_name='P2P-Activities_csv_ACTIVITY_EN_Set Payment Block (occurence)', display_name='P2P-Activities_csv.ACTIVITY_EN = Set Payment Block (occurence)', correlation=0.19999104398170656, p_val=1.0, unit='', label_influence=13.067171717171718, cases_with_attribute=None),\n Attribute(major_attribute_type=<MajorAttribute.ACTIVITY: 'Activity'>, minor_attribute_type='Rework', attribute_data_type=<AttributeDataType.CATEGORICAL: 'categorical'>, df_attribute_name='P2P-Activities_csv_ACTIVITY_EN_Remove Payment Block (rework)', display_name='P2P-Activities_csv.ACTIVITY_EN = Remove Payment Block (rework)', correlation=0.19999104398170656, p_val=1.0, unit='', label_influence=13.067171717171718, cases_with_attribute=None),\n Attribute(major_attribute_type=<MajorAttribute.ACTIVITY: 'Activity'>, minor_attribute_type='Rework', attribute_data_type=<AttributeDataType.CATEGORICAL: 'categorical'>, df_attribute_name='P2P-Activities_csv_ACTIVITY_EN_Set Payment Block (rework)', display_name='P2P-Activities_csv.ACTIVITY_EN = Set Payment Block (rework)', correlation=0.19999104398170656, p_val=1.0, unit='', label_influence=13.067171717171718, cases_with_attribute=None),\n Attribute(major_attribute_type=<MajorAttribute.ACTIVITY: 'Activity'>, minor_attribute_type='Activity Table column', attribute_data_type=<AttributeDataType.CATEGORICAL: 'categorical'>, df_attribute_name='P2P-Activities_csv_ACTIVITY_EN_Remove Payment Block', display_name='P2P-Activities_csv.ACTIVITY_EN = Remove Payment Block', correlation=0.19999104398170656, p_val=1.0, unit='', label_influence=13.067171717171718, cases_with_attribute=None),\n Attribute(major_attribute_type=<MajorAttribute.ACTIVITY: 'Activity'>, minor_attribute_type='Activity Table column', attribute_data_type=<AttributeDataType.CATEGORICAL: 'categorical'>, df_attribute_name='P2P-Activities_csv_ACTIVITY_EN_Set Payment Block', display_name='P2P-Activities_csv.ACTIVITY_EN = Set Payment Block', correlation=0.19999104398170656, p_val=1.0, unit='', label_influence=13.067171717171718, cases_with_attribute=None),\n Attribute(major_attribute_type=<MajorAttribute.ACTIVITY: 'Activity'>, minor_attribute_type='Activity Table column', attribute_data_type=<AttributeDataType.CATEGORICAL: 'categorical'>, df_attribute_name='P2P-Activities_csv_USER_NAME_Yanira Gorrfried', display_name='P2P-Activities_csv.USER_NAME = Yanira Gorrfried', correlation=0.17832592631277194, p_val=1.0, unit='', label_influence=7.255514860066544, cases_with_attribute=None),\n Attribute(major_attribute_type=<MajorAttribute.ACTIVITY: 'Activity'>, minor_attribute_type='Activity Table column', attribute_data_type=<AttributeDataType.CATEGORICAL: 'categorical'>, df_attribute_name='P2P-Activities_csv_USER_NAME_Karri Ptacek', display_name='P2P-Activities_csv.USER_NAME = Karri Ptacek', correlation=0.17470568933433325, p_val=1.0, unit='', label_influence=5.815601129374688, cases_with_attribute=None),\n Attribute(major_attribute_type=<MajorAttribute.CASE: 'Case'>, minor_attribute_type='Case Table column', attribute_data_type=<AttributeDataType.CATEGORICAL: 'categorical'>, df_attribute_name='P2P-Cases_new_ID_csv_VENDOR_0000001001', display_name='P2P-Cases_new_ID_csv.VENDOR = 0000001001', correlation=0.16024462681438198, p_val=1.0, unit='', label_influence=6.751023622047242, cases_with_attribute=None),\n Attribute(major_attribute_type=<MajorAttribute.CASE: 'Case'>, minor_attribute_type='Case Table column', attribute_data_type=<AttributeDataType.CATEGORICAL: 'categorical'>, df_attribute_name='P2P-Cases_new_ID_csv_MATERIAL GROUP_003', display_name='P2P-Cases_new_ID_csv.MATERIAL GROUP = 003', correlation=0.11424076750433812, p_val=1.0, unit='', label_influence=4.122102425876012, cases_with_attribute=None),\n Attribute(major_attribute_type=<MajorAttribute.CASE: 'Case'>, minor_attribute_type='Case Table column', attribute_data_type=<AttributeDataType.CATEGORICAL: 'categorical'>, df_attribute_name='P2P-Cases_new_ID_csv_MATERIAL GROUP TEXT_Bulbs', display_name='P2P-Cases_new_ID_csv.MATERIAL GROUP TEXT = Bulbs', correlation=0.11424076750433812, p_val=1.0, unit='', label_influence=4.122102425876012, cases_with_attribute=None),\n Attribute(major_attribute_type=<MajorAttribute.ACTIVITY: 'Activity'>, minor_attribute_type='Activity occurence', attribute_data_type=<AttributeDataType.CATEGORICAL: 'categorical'>, df_attribute_name='P2P-Activities_csv_ACTIVITY_EN_Create Purchase Requisition Item (occurence)', display_name='P2P-Activities_csv.ACTIVITY_EN = Create Purchase Requisition Item (occurence)', correlation=0.10679850991228278, p_val=1.0, unit='', label_influence=2.6414375785864834, cases_with_attribute=None),\n Attribute(major_attribute_type=<MajorAttribute.ACTIVITY: 'Activity'>, minor_attribute_type='Rework', attribute_data_type=<AttributeDataType.CATEGORICAL: 'categorical'>, df_attribute_name='P2P-Activities_csv_ACTIVITY_EN_Create Purchase Requisition Item (rework)', display_name='P2P-Activities_csv.ACTIVITY_EN = Create Purchase Requisition Item (rework)', correlation=0.10679850991228278, p_val=1.0, unit='', label_influence=2.6414375785864834, cases_with_attribute=None),\n Attribute(major_attribute_type=<MajorAttribute.CASE: 'Case'>, minor_attribute_type='Case Table column', attribute_data_type=<AttributeDataType.CATEGORICAL: 'categorical'>, df_attribute_name='P2P-Cases_new_ID_csv_MATERIAL GROUP_00207', display_name='P2P-Cases_new_ID_csv.MATERIAL GROUP = 00207', correlation=0.09377133671259864, p_val=1.0, unit='', label_influence=3.630230496453901, cases_with_attribute=None),\n Attribute(major_attribute_type=<MajorAttribute.CASE: 'Case'>, minor_attribute_type='Case Table column', attribute_data_type=<AttributeDataType.CATEGORICAL: 'categorical'>, df_attribute_name='P2P-Cases_new_ID_csv_MATERIAL GROUP TEXT_Monitors', display_name='P2P-Cases_new_ID_csv.MATERIAL GROUP TEXT = Monitors', correlation=0.09377133671259864, p_val=1.0, unit='', label_influence=3.630230496453901, cases_with_attribute=None),\n Attribute(major_attribute_type=<MajorAttribute.ACTIVITY: 'Activity'>, minor_attribute_type='Activity occurence', attribute_data_type=<AttributeDataType.CATEGORICAL: 'categorical'>, df_attribute_name='P2P-Activities_csv_ACTIVITY_EN_Change Currency (occurence)', display_name='P2P-Activities_csv.ACTIVITY_EN = Change Currency (occurence)', correlation=0.09172085679615545, p_val=1.0, unit='', label_influence=5.992929292929297, cases_with_attribute=None),\n Attribute(major_attribute_type=<MajorAttribute.ACTIVITY: 'Activity'>, minor_attribute_type='Rework', attribute_data_type=<AttributeDataType.CATEGORICAL: 'categorical'>, df_attribute_name='P2P-Activities_csv_ACTIVITY_EN_Change Currency (rework)', display_name='P2P-Activities_csv.ACTIVITY_EN = Change Currency (rework)', correlation=0.09172085679615545, p_val=1.0, unit='', label_influence=5.992929292929297, cases_with_attribute=None),\n Attribute(major_attribute_type=<MajorAttribute.CASE: 'Case'>, minor_attribute_type='Case Table column', attribute_data_type=<AttributeDataType.CATEGORICAL: 'categorical'>, df_attribute_name='P2P-Cases_new_ID_csv_MATERIAL GROUP_008', display_name='P2P-Cases_new_ID_csv.MATERIAL GROUP = 008', correlation=0.08998738041137512, p_val=1.0, unit='', label_influence=5.176453317674689, cases_with_attribute=None),\n Attribute(major_attribute_type=<MajorAttribute.CASE: 'Case'>, minor_attribute_type='Case Table column', attribute_data_type=<AttributeDataType.CATEGORICAL: 'categorical'>, df_attribute_name='P2P-Cases_new_ID_csv_MATERIAL GROUP TEXT_Packaging', display_name='P2P-Cases_new_ID_csv.MATERIAL GROUP TEXT = Packaging', correlation=0.08998738041137512, p_val=1.0, unit='', label_influence=5.176453317674689, cases_with_attribute=None),\n Attribute(major_attribute_type=<MajorAttribute.CASE: 'Case'>, minor_attribute_type='Case Table column', attribute_data_type=<AttributeDataType.CATEGORICAL: 'categorical'>, df_attribute_name='P2P-Cases_new_ID_csv_MATERIAL GROUP_001', display_name='P2P-Cases_new_ID_csv.MATERIAL GROUP = 001', correlation=0.08758560754243953, p_val=1.0, unit='', label_influence=3.876836158192088, cases_with_attribute=None),\n Attribute(major_attribute_type=<MajorAttribute.CASE: 'Case'>, minor_attribute_type='Case Table column', attribute_data_type=<AttributeDataType.CATEGORICAL: 'categorical'>, df_attribute_name='P2P-Cases_new_ID_csv_MATERIAL GROUP TEXT_Metal processing', display_name='P2P-Cases_new_ID_csv.MATERIAL GROUP TEXT = Metal processing', correlation=0.08758560754243953, p_val=1.0, unit='', label_influence=3.876836158192088, cases_with_attribute=None),\n Attribute(major_attribute_type=<MajorAttribute.CASE: 'Case'>, minor_attribute_type='Case Table column', attribute_data_type=<AttributeDataType.CATEGORICAL: 'categorical'>, df_attribute_name='P2P-Cases_new_ID_csv_MATERIAL_R100011', display_name='P2P-Cases_new_ID_csv.MATERIAL = R100011', correlation=0.07912729195451446, p_val=1.0, unit='', label_influence=4.468819651918242, cases_with_attribute=None),\n Attribute(major_attribute_type=<MajorAttribute.CASE: 'Case'>, minor_attribute_type='Case Table column', attribute_data_type=<AttributeDataType.CATEGORICAL: 'categorical'>, df_attribute_name=\"P2P-Cases_new_ID_csv_MATERIAL TEXT_Basketball 'Professional'\", display_name=\"P2P-Cases_new_ID_csv.MATERIAL TEXT = Basketball 'Professional'\", correlation=0.07912729195451446, p_val=1.0, unit='', label_influence=4.468819651918242, cases_with_attribute=None),\n Attribute(major_attribute_type=<MajorAttribute.ACTIVITY: 'Activity'>, minor_attribute_type='Activity occurence', attribute_data_type=<AttributeDataType.CATEGORICAL: 'categorical'>, df_attribute_name='P2P-Activities_csv_ACTIVITY_EN_Send Purchase Order Update (occurence)', display_name='P2P-Activities_csv.ACTIVITY_EN = Send Purchase Order Update (occurence)', correlation=0.0721066924509469, p_val=1.0, unit='', label_influence=4.7113636363636395, cases_with_attribute=None),\n Attribute(major_attribute_type=<MajorAttribute.ACTIVITY: 'Activity'>, minor_attribute_type='Rework', attribute_data_type=<AttributeDataType.CATEGORICAL: 'categorical'>, df_attribute_name='P2P-Activities_csv_ACTIVITY_EN_Send Purchase Order Update (rework)', display_name='P2P-Activities_csv.ACTIVITY_EN = Send Purchase Order Update (rework)', correlation=0.0721066924509469, p_val=1.0, unit='', label_influence=4.7113636363636395, cases_with_attribute=None),\n Attribute(major_attribute_type=<MajorAttribute.CASE: 'Case'>, minor_attribute_type='Case Table column', attribute_data_type=<AttributeDataType.CATEGORICAL: 'categorical'>, df_attribute_name='P2P-Cases_new_ID_csv_MATERIAL GROUP_R1132', display_name='P2P-Cases_new_ID_csv.MATERIAL GROUP = R1132', correlation=0.06556994503773732, p_val=1.0, unit='', label_influence=2.665151959347213, cases_with_attribute=None),\n Attribute(major_attribute_type=<MajorAttribute.CASE: 'Case'>, minor_attribute_type='Case Table column', attribute_data_type=<AttributeDataType.CATEGORICAL: 'categorical'>, df_attribute_name='P2P-Cases_new_ID_csv_MATERIAL GROUP TEXT_Sport', display_name='P2P-Cases_new_ID_csv.MATERIAL GROUP TEXT = Sport', correlation=0.06556994503773732, p_val=1.0, unit='', label_influence=2.665151959347213, cases_with_attribute=None),\n Attribute(major_attribute_type=<MajorAttribute.ACTIVITY: 'Activity'>, minor_attribute_type='Activity occurence', attribute_data_type=<AttributeDataType.CATEGORICAL: 'categorical'>, df_attribute_name='P2P-Activities_csv_ACTIVITY_EN_Dun Order Confirmation (occurence)', display_name='P2P-Activities_csv.ACTIVITY_EN = Dun Order Confirmation (occurence)', correlation=0.034733393466300166, p_val=1.0, unit='', label_influence=1.625388601036267, cases_with_attribute=None),\n Attribute(major_attribute_type=<MajorAttribute.ACTIVITY: 'Activity'>, minor_attribute_type='Rework', attribute_data_type=<AttributeDataType.CATEGORICAL: 'categorical'>, df_attribute_name='P2P-Activities_csv_ACTIVITY_EN_Dun Order Confirmation (rework)', display_name='P2P-Activities_csv.ACTIVITY_EN = Dun Order Confirmation (rework)', correlation=0.034733393466300166, p_val=1.0, unit='', label_influence=1.625388601036267, cases_with_attribute=None),\n Attribute(major_attribute_type=<MajorAttribute.ACTIVITY: 'Activity'>, minor_attribute_type='Activity occurence', attribute_data_type=<AttributeDataType.CATEGORICAL: 'categorical'>, df_attribute_name='P2P-Activities_csv_ACTIVITY_EN_Receive Order Confirmation (occurence)', display_name='P2P-Activities_csv.ACTIVITY_EN = Receive Order Confirmation (occurence)', correlation=0.025145954628013056, p_val=1.0, unit='', label_influence=0.8545081967213122, cases_with_attribute=None),\n Attribute(major_attribute_type=<MajorAttribute.ACTIVITY: 'Activity'>, minor_attribute_type='Rework', attribute_data_type=<AttributeDataType.CATEGORICAL: 'categorical'>, df_attribute_name='P2P-Activities_csv_ACTIVITY_EN_Receive Order Confirmation (rework)', display_name='P2P-Activities_csv.ACTIVITY_EN = Receive Order Confirmation (rework)', correlation=0.025145954628013056, p_val=1.0, unit='', label_influence=0.8545081967213122, cases_with_attribute=None),\n Attribute(major_attribute_type=<MajorAttribute.CASE: 'Case'>, minor_attribute_type='Case Table column', attribute_data_type=<AttributeDataType.CATEGORICAL: 'categorical'>, df_attribute_name='P2P-Cases_new_ID_csv_MATERIAL_R100005', display_name='P2P-Cases_new_ID_csv.MATERIAL = R100005', correlation=0.016839690620231572, p_val=1.0, unit='', label_influence=1.0068027210884338, cases_with_attribute=None),\n Attribute(major_attribute_type=<MajorAttribute.CASE: 'Case'>, minor_attribute_type='Case Table column', attribute_data_type=<AttributeDataType.CATEGORICAL: 'categorical'>, df_attribute_name='P2P-Cases_new_ID_csv_MATERIAL_R100012', display_name='P2P-Cases_new_ID_csv.MATERIAL = R100012', correlation=0.011958856591211063, p_val=1.0, unit='', label_influence=0.6753924218712939, cases_with_attribute=None),\n Attribute(major_attribute_type=<MajorAttribute.CASE: 'Case'>, minor_attribute_type='Case Table column', attribute_data_type=<AttributeDataType.CATEGORICAL: 'categorical'>, df_attribute_name='P2P-Cases_new_ID_csv_MATERIAL GROUP_R1112', display_name='P2P-Cases_new_ID_csv.MATERIAL GROUP = R1112', correlation=0.005613577971320237, p_val=1.0, unit='', label_influence=0.27260680034873275, cases_with_attribute=None),\n Attribute(major_attribute_type=<MajorAttribute.CASE: 'Case'>, minor_attribute_type='Case Table column', attribute_data_type=<AttributeDataType.CATEGORICAL: 'categorical'>, df_attribute_name='P2P-Cases_new_ID_csv_MATERIAL GROUP TEXT_Beverages', display_name='P2P-Cases_new_ID_csv.MATERIAL GROUP TEXT = Beverages', correlation=0.005613577971320237, p_val=1.0, unit='', label_influence=0.27260680034873275, cases_with_attribute=None),\n Attribute(major_attribute_type=<MajorAttribute.CASE: 'Case'>, minor_attribute_type='Case Table column', attribute_data_type=<AttributeDataType.CATEGORICAL: 'categorical'>, df_attribute_name='P2P-Cases_new_ID_csv_MATERIAL_R100027', display_name='P2P-Cases_new_ID_csv.MATERIAL = R100027', correlation=0.005170705154773156, p_val=1.0, unit='', label_influence=0.3155912489615069, cases_with_attribute=None),\n Attribute(major_attribute_type=<MajorAttribute.CASE: 'Case'>, minor_attribute_type='Case Table column', attribute_data_type=<AttributeDataType.CATEGORICAL: 'categorical'>, df_attribute_name='P2P-Cases_new_ID_csv_MATERIAL_R100001', display_name='P2P-Cases_new_ID_csv.MATERIAL = R100001', correlation=0.0018724323691701628, p_val=1.0, unit='', label_influence=0.09211283822682503, cases_with_attribute=None),\n Attribute(major_attribute_type=<MajorAttribute.CASE: 'Case'>, minor_attribute_type='Case Table column', attribute_data_type=<AttributeDataType.CATEGORICAL: 'categorical'>, df_attribute_name='P2P-Cases_new_ID_csv_MATERIAL GROUP_R1114', display_name='P2P-Cases_new_ID_csv.MATERIAL GROUP = R1114', correlation=0.0002913352470195321, p_val=1.0, unit='', label_influence=0.010512129380053636, cases_with_attribute=None),\n Attribute(major_attribute_type=<MajorAttribute.CASE: 'Case'>, minor_attribute_type='Case Table column', attribute_data_type=<AttributeDataType.CATEGORICAL: 'categorical'>, df_attribute_name='P2P-Cases_new_ID_csv_MATERIAL GROUP TEXT_Preserves', display_name='P2P-Cases_new_ID_csv.MATERIAL GROUP TEXT = Preserves', correlation=0.0002913352470195321, p_val=1.0, unit='', label_influence=0.010512129380053636, cases_with_attribute=None),\n Attribute(major_attribute_type=<MajorAttribute.ACTIVITY: 'Activity'>, minor_attribute_type='Start activity', attribute_data_type=<AttributeDataType.NUMERICAL: 'numerical'>, df_attribute_name='Start activity = Create Purchase Order Item', display_name='Start activity = Create Purchase Order Item', correlation=0.0, p_val=1.0, unit='', label_influence=None, cases_with_attribute=None),\n Attribute(major_attribute_type=<MajorAttribute.ACTIVITY: 'Activity'>, minor_attribute_type='Start activity', attribute_data_type=<AttributeDataType.NUMERICAL: 'numerical'>, df_attribute_name='Start activity = Create Purchase Requisition Item', display_name='Start activity = Create Purchase Requisition Item', correlation=0.0, p_val=1.0, unit='', label_influence=None, cases_with_attribute=None),\n Attribute(major_attribute_type=<MajorAttribute.ACTIVITY: 'Activity'>, minor_attribute_type='Start activity', attribute_data_type=<AttributeDataType.NUMERICAL: 'numerical'>, df_attribute_name='Start activity = Record Invoice Receipt', display_name='Start activity = Record Invoice Receipt', correlation=0.0, p_val=1.0, unit='', label_influence=None, cases_with_attribute=None),\n Attribute(major_attribute_type=<MajorAttribute.ACTIVITY: 'Activity'>, minor_attribute_type='End activity', attribute_data_type=<AttributeDataType.NUMERICAL: 'numerical'>, df_attribute_name='End activity = Block Purchase Order Item', display_name='End activity = Block Purchase Order Item', correlation=0.0, p_val=1.0, unit='', label_influence=None, cases_with_attribute=None),\n Attribute(major_attribute_type=<MajorAttribute.ACTIVITY: 'Activity'>, minor_attribute_type='End activity', attribute_data_type=<AttributeDataType.NUMERICAL: 'numerical'>, df_attribute_name='End activity = Clear Invoice', display_name='End activity = Clear Invoice', correlation=0.0, p_val=1.0, unit='', label_influence=None, cases_with_attribute=None),\n Attribute(major_attribute_type=<MajorAttribute.ACTIVITY: 'Activity'>, minor_attribute_type='End activity', attribute_data_type=<AttributeDataType.NUMERICAL: 'numerical'>, df_attribute_name='End activity = Delete Purchase Order Item', display_name='End activity = Delete Purchase Order Item', correlation=0.0, p_val=1.0, unit='', label_influence=None, cases_with_attribute=None),\n Attribute(major_attribute_type=<MajorAttribute.ACTIVITY: 'Activity'>, minor_attribute_type='End activity', attribute_data_type=<AttributeDataType.NUMERICAL: 'numerical'>, df_attribute_name='End activity = Refuse Purchase Order', display_name='End activity = Refuse Purchase Order', correlation=0.0, p_val=1.0, unit='', label_influence=None, cases_with_attribute=None),\n Attribute(major_attribute_type=<MajorAttribute.CASE: 'Case'>, minor_attribute_type='Work in progress  (mean)', attribute_data_type=<AttributeDataType.NUMERICAL: 'numerical'>, df_attribute_name='Work in progress (mean)', display_name='Work in progress (mean)', correlation=0.0, p_val=1.0, unit='', label_influence=None, cases_with_attribute=None),\n Attribute(major_attribute_type=<MajorAttribute.CASE: 'Case'>, minor_attribute_type='Case Table column', attribute_data_type=<AttributeDataType.CATEGORICAL: 'categorical'>, df_attribute_name='P2P-Cases_new_ID_csv_MATERIAL GROUP_R1111', display_name='P2P-Cases_new_ID_csv.MATERIAL GROUP = R1111', correlation=-0.005065586680347845, p_val=1.0, unit='', label_influence=-0.18904335289877494, cases_with_attribute=None),\n Attribute(major_attribute_type=<MajorAttribute.CASE: 'Case'>, minor_attribute_type='Case Table column', attribute_data_type=<AttributeDataType.CATEGORICAL: 'categorical'>, df_attribute_name='P2P-Cases_new_ID_csv_MATERIAL GROUP TEXT_Dairy', display_name='P2P-Cases_new_ID_csv.MATERIAL GROUP TEXT = Dairy', correlation=-0.005065586680347845, p_val=1.0, unit='', label_influence=-0.18904335289877494, cases_with_attribute=None),\n Attribute(major_attribute_type=<MajorAttribute.CASE: 'Case'>, minor_attribute_type='Case Table column', attribute_data_type=<AttributeDataType.CATEGORICAL: 'categorical'>, df_attribute_name='P2P-Cases_new_ID_csv_MATERIAL_R100000', display_name='P2P-Cases_new_ID_csv.MATERIAL = R100000', correlation=-0.009561472592372474, p_val=1.0, unit='', label_influence=-0.5217121862688678, cases_with_attribute=None),\n Attribute(major_attribute_type=<MajorAttribute.CASE: 'Case'>, minor_attribute_type='Case Table column', attribute_data_type=<AttributeDataType.CATEGORICAL: 'categorical'>, df_attribute_name='P2P-Cases_new_ID_csv_MATERIAL_R100014', display_name='P2P-Cases_new_ID_csv.MATERIAL = R100014', correlation=-0.011787559951370721, p_val=1.0, unit='', label_influence=-0.6657182150139924, cases_with_attribute=None),\n Attribute(major_attribute_type=<MajorAttribute.CASE: 'Case'>, minor_attribute_type='Case Table column', attribute_data_type=<AttributeDataType.CATEGORICAL: 'categorical'>, df_attribute_name='P2P-Cases_new_ID_csv_MATERIAL_R100032', display_name='P2P-Cases_new_ID_csv.MATERIAL = R100032', correlation=-0.017559344462067413, p_val=1.0, unit='', label_influence=-1.0717252838548887, cases_with_attribute=None),\n Attribute(major_attribute_type=<MajorAttribute.CASE: 'Case'>, minor_attribute_type='Case Table column', attribute_data_type=<AttributeDataType.CATEGORICAL: 'categorical'>, df_attribute_name='P2P-Cases_new_ID_csv_MATERIAL_R100013', display_name='P2P-Cases_new_ID_csv.MATERIAL = R100013', correlation=-0.017803965750880547, p_val=1.0, unit='', label_influence=-1.0240015738736936, cases_with_attribute=None),\n Attribute(major_attribute_type=<MajorAttribute.CASE: 'Case'>, minor_attribute_type='Case Table column', attribute_data_type=<AttributeDataType.CATEGORICAL: 'categorical'>, df_attribute_name='P2P-Cases_new_ID_csv_MATERIAL GROUP_R1134', display_name='P2P-Cases_new_ID_csv.MATERIAL GROUP = R1134', correlation=-0.01853413748706645, p_val=1.0, unit='', label_influence=-1.0468978532672821, cases_with_attribute=None),\n Attribute(major_attribute_type=<MajorAttribute.CASE: 'Case'>, minor_attribute_type='Case Table column', attribute_data_type=<AttributeDataType.CATEGORICAL: 'categorical'>, df_attribute_name='P2P-Cases_new_ID_csv_MATERIAL GROUP TEXT_Electro', display_name='P2P-Cases_new_ID_csv.MATERIAL GROUP TEXT = Electro', correlation=-0.01853413748706645, p_val=1.0, unit='', label_influence=-1.0468978532672821, cases_with_attribute=None),\n Attribute(major_attribute_type=<MajorAttribute.CASE: 'Case'>, minor_attribute_type='Case Table column', attribute_data_type=<AttributeDataType.CATEGORICAL: 'categorical'>, df_attribute_name='P2P-Cases_new_ID_csv_MATERIAL_R100016', display_name='P2P-Cases_new_ID_csv.MATERIAL = R100016', correlation=-0.0185722503921084, p_val=1.0, unit='', label_influence=-1.0488926826955023, cases_with_attribute=None),\n Attribute(major_attribute_type=<MajorAttribute.CASE: 'Case'>, minor_attribute_type='Case Table column', attribute_data_type=<AttributeDataType.CATEGORICAL: 'categorical'>, df_attribute_name='P2P-Cases_new_ID_csv_MATERIAL GROUP_R1133', display_name='P2P-Cases_new_ID_csv.MATERIAL GROUP = R1133', correlation=-0.021193459014870283, p_val=1.0, unit='', label_influence=-0.8689437442513714, cases_with_attribute=None),\n Attribute(major_attribute_type=<MajorAttribute.CASE: 'Case'>, minor_attribute_type='Case Table column', attribute_data_type=<AttributeDataType.CATEGORICAL: 'categorical'>, df_attribute_name='P2P-Cases_new_ID_csv_MATERIAL GROUP TEXT_Household/cosmetics', display_name='P2P-Cases_new_ID_csv.MATERIAL GROUP TEXT = Household/cosmetics', correlation=-0.021193459014870283, p_val=1.0, unit='', label_influence=-0.8689437442513714, cases_with_attribute=None),\n Attribute(major_attribute_type=<MajorAttribute.CASE: 'Case'>, minor_attribute_type='Case Table column', attribute_data_type=<AttributeDataType.CATEGORICAL: 'categorical'>, df_attribute_name='P2P-Cases_new_ID_csv_MATERIAL_R100026', display_name='P2P-Cases_new_ID_csv.MATERIAL = R100026', correlation=-0.021958708904036558, p_val=1.0, unit='', label_influence=-1.340238161174188, cases_with_attribute=None),\n Attribute(major_attribute_type=<MajorAttribute.CASE: 'Case'>, minor_attribute_type='Case Table column', attribute_data_type=<AttributeDataType.CATEGORICAL: 'categorical'>, df_attribute_name='P2P-Cases_new_ID_csv_MATERIAL_R100007', display_name='P2P-Cases_new_ID_csv.MATERIAL = R100007', correlation=-0.0314930381783101, p_val=1.0, unit='', label_influence=-2.0573604060913695, cases_with_attribute=None),\n Attribute(major_attribute_type=<MajorAttribute.CASE: 'Case'>, minor_attribute_type='Case Table column', attribute_data_type=<AttributeDataType.CATEGORICAL: 'categorical'>, df_attribute_name='P2P-Cases_new_ID_csv_MATERIAL_R100008', display_name='P2P-Cases_new_ID_csv.MATERIAL = R100008', correlation=-0.031493038178310215, p_val=1.0, unit='', label_influence=-2.0573604060913695, cases_with_attribute=None),\n Attribute(major_attribute_type=<MajorAttribute.CASE: 'Case'>, minor_attribute_type='Case Table column', attribute_data_type=<AttributeDataType.CATEGORICAL: 'categorical'>, df_attribute_name='P2P-Cases_new_ID_csv_MATERIAL GROUP_R1121', display_name='P2P-Cases_new_ID_csv.MATERIAL GROUP = R1121', correlation=-0.04505819085467276, p_val=1.0, unit='', label_influence=-2.108549222797926, cases_with_attribute=None),\n Attribute(major_attribute_type=<MajorAttribute.CASE: 'Case'>, minor_attribute_type='Case Table column', attribute_data_type=<AttributeDataType.CATEGORICAL: 'categorical'>, df_attribute_name='P2P-Cases_new_ID_csv_MATERIAL GROUP TEXT_Perishables', display_name='P2P-Cases_new_ID_csv.MATERIAL GROUP TEXT = Perishables', correlation=-0.04505819085467276, p_val=1.0, unit='', label_influence=-2.108549222797926, cases_with_attribute=None),\n Attribute(major_attribute_type=<MajorAttribute.CASE: 'Case'>, minor_attribute_type='Case Table column', attribute_data_type=<AttributeDataType.CATEGORICAL: 'categorical'>, df_attribute_name='P2P-Cases_new_ID_csv_MATERIAL GROUP_R1122', display_name='P2P-Cases_new_ID_csv.MATERIAL GROUP = R1122', correlation=-0.0617717862632911, p_val=1.0, unit='', label_influence=-3.0803088803088805, cases_with_attribute=None),\n Attribute(major_attribute_type=<MajorAttribute.CASE: 'Case'>, minor_attribute_type='Case Table column', attribute_data_type=<AttributeDataType.CATEGORICAL: 'categorical'>, df_attribute_name='P2P-Cases_new_ID_csv_MATERIAL GROUP TEXT_Deli', display_name='P2P-Cases_new_ID_csv.MATERIAL GROUP TEXT = Deli', correlation=-0.0617717862632911, p_val=1.0, unit='', label_influence=-3.0803088803088805, cases_with_attribute=None),\n Attribute(major_attribute_type=<MajorAttribute.CASE: 'Case'>, minor_attribute_type='Case Table column', attribute_data_type=<AttributeDataType.CATEGORICAL: 'categorical'>, df_attribute_name='P2P-Cases_new_ID_csv_MATERIAL_R100002', display_name='P2P-Cases_new_ID_csv.MATERIAL = R100002', correlation=-0.061830050341196624, p_val=1.0, unit='', label_influence=-3.082831269635925, cases_with_attribute=None),\n Attribute(major_attribute_type=<MajorAttribute.CASE: 'Case'>, minor_attribute_type='Case Table column', attribute_data_type=<AttributeDataType.CATEGORICAL: 'categorical'>, df_attribute_name='P2P-Cases_new_ID_csv_MATERIAL_R100022', display_name='P2P-Cases_new_ID_csv.MATERIAL = R100022', correlation=-0.06877063091452885, p_val=1.0, unit='', label_influence=-4.387124099957646, cases_with_attribute=None),\n Attribute(major_attribute_type=<MajorAttribute.CASE: 'Case'>, minor_attribute_type='Case Table column', attribute_data_type=<AttributeDataType.CATEGORICAL: 'categorical'>, df_attribute_name='P2P-Cases_new_ID_csv_MATERIAL_R100010', display_name='P2P-Cases_new_ID_csv.MATERIAL = R100010', correlation=-0.06962530698543208, p_val=1.0, unit='', label_influence=-4.004524886877828, cases_with_attribute=None),\n Attribute(major_attribute_type=<MajorAttribute.CASE: 'Case'>, minor_attribute_type='Case Table column', attribute_data_type=<AttributeDataType.CATEGORICAL: 'categorical'>, df_attribute_name='P2P-Cases_new_ID_csv_MATERIAL_R100009', display_name='P2P-Cases_new_ID_csv.MATERIAL = R100009', correlation=-0.08428303849859954, p_val=1.0, unit='', label_influence=-5.144170589864302, cases_with_attribute=None),\n Attribute(major_attribute_type=<MajorAttribute.CASE: 'Case'>, minor_attribute_type='Case Table column', attribute_data_type=<AttributeDataType.CATEGORICAL: 'categorical'>, df_attribute_name='P2P-Cases_new_ID_csv_MATERIAL GROUP_R1113', display_name='P2P-Cases_new_ID_csv.MATERIAL GROUP = R1113', correlation=-0.08432452033583375, p_val=1.0, unit='', label_influence=-4.763057324840766, cases_with_attribute=None),\n Attribute(major_attribute_type=<MajorAttribute.CASE: 'Case'>, minor_attribute_type='Case Table column', attribute_data_type=<AttributeDataType.CATEGORICAL: 'categorical'>, df_attribute_name='P2P-Cases_new_ID_csv_MATERIAL GROUP TEXT_Frozen foods', display_name='P2P-Cases_new_ID_csv.MATERIAL GROUP TEXT = Frozen foods', correlation=-0.08432452033583375, p_val=1.0, unit='', label_influence=-4.763057324840766, cases_with_attribute=None),\n Attribute(major_attribute_type=<MajorAttribute.CASE: 'Case'>, minor_attribute_type='Case Table column', attribute_data_type=<AttributeDataType.CATEGORICAL: 'categorical'>, df_attribute_name='P2P-Cases_new_ID_csv_MATERIAL_R100004', display_name='P2P-Cases_new_ID_csv.MATERIAL = R100004', correlation=-0.0843837476672642, p_val=1.0, unit='', label_influence=-4.7656850192061455, cases_with_attribute=None),\n Attribute(major_attribute_type=<MajorAttribute.CASE: 'Case'>, minor_attribute_type='Case Table column', attribute_data_type=<AttributeDataType.CATEGORICAL: 'categorical'>, df_attribute_name=\"P2P-Cases_new_ID_csv_MATERIAL TEXT_'Sophia l.' pizza, 3-pack\", display_name=\"P2P-Cases_new_ID_csv.MATERIAL TEXT = 'Sophia l.' pizza, 3-pack\", correlation=-0.0843837476672642, p_val=1.0, unit='', label_influence=-4.7656850192061455, cases_with_attribute=None),\n Attribute(major_attribute_type=<MajorAttribute.CASE: 'Case'>, minor_attribute_type='Case Table column', attribute_data_type=<AttributeDataType.CATEGORICAL: 'categorical'>, df_attribute_name='P2P-Cases_new_ID_csv_MATERIAL GROUP_R1221', display_name='P2P-Cases_new_ID_csv.MATERIAL GROUP = R1221', correlation=-0.08663972071208123, p_val=1.0, unit='', label_influence=-4.054404145077719, cases_with_attribute=None),\n Attribute(major_attribute_type=<MajorAttribute.CASE: 'Case'>, minor_attribute_type='Case Table column', attribute_data_type=<AttributeDataType.CATEGORICAL: 'categorical'>, df_attribute_name='P2P-Cases_new_ID_csv_MATERIAL GROUP TEXT_Returnables', display_name='P2P-Cases_new_ID_csv.MATERIAL GROUP TEXT = Returnables', correlation=-0.08663972071208123, p_val=1.0, unit='', label_influence=-4.054404145077719, cases_with_attribute=None),\n Attribute(major_attribute_type=<MajorAttribute.ACTIVITY: 'Activity'>, minor_attribute_type='Activity occurence', attribute_data_type=<AttributeDataType.CATEGORICAL: 'categorical'>, df_attribute_name='P2P-Activities_csv_ACTIVITY_EN_Block Purchase Order Item (occurence)', display_name='P2P-Activities_csv.ACTIVITY_EN = Block Purchase Order Item (occurence)', correlation=-0.09441266413707161, p_val=1.0, unit='', label_influence=-4.52706378348973, cases_with_attribute=None),\n Attribute(major_attribute_type=<MajorAttribute.ACTIVITY: 'Activity'>, minor_attribute_type='Rework', attribute_data_type=<AttributeDataType.CATEGORICAL: 'categorical'>, df_attribute_name='P2P-Activities_csv_ACTIVITY_EN_Block Purchase Order Item (rework)', display_name='P2P-Activities_csv.ACTIVITY_EN = Block Purchase Order Item (rework)', correlation=-0.09441266413707161, p_val=1.0, unit='', label_influence=-4.52706378348973, cases_with_attribute=None),\n Attribute(major_attribute_type=<MajorAttribute.CASE: 'Case'>, minor_attribute_type='Case Table column', attribute_data_type=<AttributeDataType.CATEGORICAL: 'categorical'>, df_attribute_name='P2P-Cases_new_ID_csv_MATERIAL GROUP_R1131', display_name='P2P-Cases_new_ID_csv.MATERIAL GROUP = R1131', correlation=-0.11011712770532188, p_val=1.0, unit='', label_influence=-4.683205392248642, cases_with_attribute=None),\n Attribute(major_attribute_type=<MajorAttribute.CASE: 'Case'>, minor_attribute_type='Case Table column', attribute_data_type=<AttributeDataType.CATEGORICAL: 'categorical'>, df_attribute_name='P2P-Cases_new_ID_csv_MATERIAL GROUP TEXT_Tools', display_name='P2P-Cases_new_ID_csv.MATERIAL GROUP TEXT = Tools', correlation=-0.11011712770532188, p_val=1.0, unit='', label_influence=-4.683205392248642, cases_with_attribute=None),\n Attribute(major_attribute_type=<MajorAttribute.CASE: 'Case'>, minor_attribute_type='Case Table column', attribute_data_type=<AttributeDataType.CATEGORICAL: 'categorical'>, df_attribute_name='P2P-Cases_new_ID_csv_MATERIAL GROUP_002', display_name='P2P-Cases_new_ID_csv.MATERIAL GROUP = 002', correlation=-0.129364232017846, p_val=1.0, unit='', label_influence=-5.610262828535671, cases_with_attribute=None),\n Attribute(major_attribute_type=<MajorAttribute.CASE: 'Case'>, minor_attribute_type='Case Table column', attribute_data_type=<AttributeDataType.CATEGORICAL: 'categorical'>, df_attribute_name='P2P-Cases_new_ID_csv_MATERIAL GROUP TEXT_Electronics', display_name='P2P-Cases_new_ID_csv.MATERIAL GROUP TEXT = Electronics', correlation=-0.129364232017846, p_val=1.0, unit='', label_influence=-5.610262828535671, cases_with_attribute=None),\n Attribute(major_attribute_type=<MajorAttribute.ACTIVITY: 'Activity'>, minor_attribute_type='Activity occurence', attribute_data_type=<AttributeDataType.CATEGORICAL: 'categorical'>, df_attribute_name='P2P-Activities_csv_ACTIVITY_EN_Delete Purchase Order Item (occurence)', display_name='P2P-Activities_csv.ACTIVITY_EN = Delete Purchase Order Item (occurence)', correlation=-0.28094826576280674, p_val=1.0, unit='', label_influence=-18.356818181818184, cases_with_attribute=None),\n Attribute(major_attribute_type=<MajorAttribute.ACTIVITY: 'Activity'>, minor_attribute_type='Rework', attribute_data_type=<AttributeDataType.CATEGORICAL: 'categorical'>, df_attribute_name='P2P-Activities_csv_ACTIVITY_EN_Delete Purchase Order Item (rework)', display_name='P2P-Activities_csv.ACTIVITY_EN = Delete Purchase Order Item (rework)', correlation=-0.28094826576280674, p_val=1.0, unit='', label_influence=-18.356818181818184, cases_with_attribute=None),\n Attribute(major_attribute_type=<MajorAttribute.ACTIVITY: 'Activity'>, minor_attribute_type='Activity occurence', attribute_data_type=<AttributeDataType.CATEGORICAL: 'categorical'>, df_attribute_name='P2P-Activities_csv_ACTIVITY_EN_Refuse Purchase Order (occurence)', display_name='P2P-Activities_csv.ACTIVITY_EN = Refuse Purchase Order (occurence)', correlation=-0.40726348414594976, p_val=1.0, unit='', label_influence=-26.610101010101012, cases_with_attribute=None),\n Attribute(major_attribute_type=<MajorAttribute.ACTIVITY: 'Activity'>, minor_attribute_type='Rework', attribute_data_type=<AttributeDataType.CATEGORICAL: 'categorical'>, df_attribute_name='P2P-Activities_csv_ACTIVITY_EN_Refuse Purchase Order (rework)', display_name='P2P-Activities_csv.ACTIVITY_EN = Refuse Purchase Order (rework)', correlation=-0.40726348414594976, p_val=1.0, unit='', label_influence=-26.610101010101012, cases_with_attribute=None),\n Attribute(major_attribute_type=<MajorAttribute.ACTIVITY: 'Activity'>, minor_attribute_type='Activity Table column', attribute_data_type=<AttributeDataType.CATEGORICAL: 'categorical'>, df_attribute_name='P2P-Activities_csv_ACTIVITY_EN_Create Purchase Order Item', display_name='P2P-Activities_csv.ACTIVITY_EN = Create Purchase Order Item', correlation=nan, p_val=1.0, unit='', label_influence=nan, cases_with_attribute=None),\n Attribute(major_attribute_type=<MajorAttribute.ACTIVITY: 'Activity'>, minor_attribute_type='Activity Table column', attribute_data_type=<AttributeDataType.CATEGORICAL: 'categorical'>, df_attribute_name='P2P-Activities_csv_ACTIVITY_EN_Record Goods Receipt', display_name='P2P-Activities_csv.ACTIVITY_EN = Record Goods Receipt', correlation=0.5728389262904271, p_val=1.0, unit='', label_influence=22.176684397163122, cases_with_attribute=None),\n Attribute(major_attribute_type=<MajorAttribute.ACTIVITY: 'Activity'>, minor_attribute_type='Activity Table column', attribute_data_type=<AttributeDataType.CATEGORICAL: 'categorical'>, df_attribute_name='P2P-Activities_csv_ACTIVITY_EN_Record Invoice Receipt', display_name='P2P-Activities_csv.ACTIVITY_EN = Record Invoice Receipt', correlation=0.5728389262904271, p_val=1.0, unit='', label_influence=22.176684397163122, cases_with_attribute=None),\n Attribute(major_attribute_type=<MajorAttribute.ACTIVITY: 'Activity'>, minor_attribute_type='Activity Table column', attribute_data_type=<AttributeDataType.CATEGORICAL: 'categorical'>, df_attribute_name='P2P-Activities_csv_USER_NAME_Tasia Snelgrove', display_name='P2P-Activities_csv.USER_NAME = Tasia Snelgrove', correlation=0.1470001794825688, p_val=1.0, unit='', label_influence=4.982642697901554, cases_with_attribute=None),\n Attribute(major_attribute_type=<MajorAttribute.ACTIVITY: 'Activity'>, minor_attribute_type='Activity Table column', attribute_data_type=<AttributeDataType.CATEGORICAL: 'categorical'>, df_attribute_name='P2P-Activities_csv_USER_NAME_Lawerence Pintor', display_name='P2P-Activities_csv.USER_NAME = Lawerence Pintor', correlation=0.1307147749974695, p_val=1.0, unit='', label_influence=5.164021164021161, cases_with_attribute=None),\n Attribute(major_attribute_type=<MajorAttribute.ACTIVITY: 'Activity'>, minor_attribute_type='Activity Table column', attribute_data_type=<AttributeDataType.CATEGORICAL: 'categorical'>, df_attribute_name='P2P-Activities_csv_USER_NAME_Lessie Scheck', display_name='P2P-Activities_csv.USER_NAME = Lessie Scheck', correlation=0.12427678148914433, p_val=1.0, unit='', label_influence=4.644315723043636, cases_with_attribute=None),\n Attribute(major_attribute_type=<MajorAttribute.ACTIVITY: 'Activity'>, minor_attribute_type='Activity Table column', attribute_data_type=<AttributeDataType.CATEGORICAL: 'categorical'>, df_attribute_name='P2P-Activities_csv_USER_NAME_Lora Rieder', display_name='P2P-Activities_csv.USER_NAME = Lora Rieder', correlation=0.10721314885308916, p_val=1.0, unit='', label_influence=3.344926075268816, cases_with_attribute=None),\n Attribute(major_attribute_type=<MajorAttribute.ACTIVITY: 'Activity'>, minor_attribute_type='Activity Table column', attribute_data_type=<AttributeDataType.CATEGORICAL: 'categorical'>, df_attribute_name='P2P-Activities_csv_ACTIVITY_EN_Create Purchase Requisition Item', display_name='P2P-Activities_csv.ACTIVITY_EN = Create Purchase Requisition Item', correlation=0.10679850991228278, p_val=1.0, unit='', label_influence=2.6414375785864834, cases_with_attribute=None),\n Attribute(major_attribute_type=<MajorAttribute.ACTIVITY: 'Activity'>, minor_attribute_type='Activity Table column', attribute_data_type=<AttributeDataType.CATEGORICAL: 'categorical'>, df_attribute_name='P2P-Activities_csv_USER_NAME_Dominica Kirkley', display_name='P2P-Activities_csv.USER_NAME = Dominica Kirkley', correlation=0.09647678757068767, p_val=1.0, unit='', label_influence=3.481132075471699, cases_with_attribute=None),\n Attribute(major_attribute_type=<MajorAttribute.ACTIVITY: 'Activity'>, minor_attribute_type='Activity Table column', attribute_data_type=<AttributeDataType.CATEGORICAL: 'categorical'>, df_attribute_name='P2P-Activities_csv_USER_NAME_Cher Ehrmann', display_name='P2P-Activities_csv.USER_NAME = Cher Ehrmann', correlation=0.0927791631346311, p_val=1.0, unit='', label_influence=3.716642203117356, cases_with_attribute=None),\n Attribute(major_attribute_type=<MajorAttribute.ACTIVITY: 'Activity'>, minor_attribute_type='Activity Table column', attribute_data_type=<AttributeDataType.CATEGORICAL: 'categorical'>, df_attribute_name='P2P-Activities_csv_ACTIVITY_EN_Change Currency', display_name='P2P-Activities_csv.ACTIVITY_EN = Change Currency', correlation=0.09172085679615545, p_val=1.0, unit='', label_influence=5.992929292929297, cases_with_attribute=None),\n Attribute(major_attribute_type=<MajorAttribute.ACTIVITY: 'Activity'>, minor_attribute_type='Activity Table column', attribute_data_type=<AttributeDataType.CATEGORICAL: 'categorical'>, df_attribute_name='P2P-Activities_csv_USER_NAME_Toby Narvaez', display_name='P2P-Activities_csv.USER_NAME = Toby Narvaez', correlation=0.09073650549740832, p_val=1.0, unit='', label_influence=3.309338136331249, cases_with_attribute=None),\n Attribute(major_attribute_type=<MajorAttribute.ACTIVITY: 'Activity'>, minor_attribute_type='Activity Table column', attribute_data_type=<AttributeDataType.CATEGORICAL: 'categorical'>, df_attribute_name='P2P-Activities_csv_USER_NAME_Lillian Wheaton', display_name='P2P-Activities_csv.USER_NAME = Lillian Wheaton', correlation=0.08788234625610758, p_val=1.0, unit='', label_influence=3.335931768158474, cases_with_attribute=None),\n Attribute(major_attribute_type=<MajorAttribute.ACTIVITY: 'Activity'>, minor_attribute_type='Activity Table column', attribute_data_type=<AttributeDataType.CATEGORICAL: 'categorical'>, df_attribute_name='P2P-Activities_csv_USER_NAME_Cerola Harry', display_name='P2P-Activities_csv.USER_NAME = Cerola Harry', correlation=0.08506052486400795, p_val=1.0, unit='', label_influence=3.072009048257371, cases_with_attribute=None),\n Attribute(major_attribute_type=<MajorAttribute.ACTIVITY: 'Activity'>, minor_attribute_type='Activity Table column', attribute_data_type=<AttributeDataType.CATEGORICAL: 'categorical'>, df_attribute_name='P2P-Activities_csv_USER_NAME_Jena Jeans', display_name='P2P-Activities_csv.USER_NAME = Jena Jeans', correlation=0.08470190183039157, p_val=1.0, unit='', label_influence=2.1366353715294473, cases_with_attribute=None),\n Attribute(major_attribute_type=<MajorAttribute.ACTIVITY: 'Activity'>, minor_attribute_type='Activity Table column', attribute_data_type=<AttributeDataType.CATEGORICAL: 'categorical'>, df_attribute_name='P2P-Activities_csv_USER_NAME_Kenia Romine', display_name='P2P-Activities_csv.USER_NAME = Kenia Romine', correlation=0.08429887106461462, p_val=1.0, unit='', label_influence=3.177965019788079, cases_with_attribute=None),\n Attribute(major_attribute_type=<MajorAttribute.ACTIVITY: 'Activity'>, minor_attribute_type='Activity Table column', attribute_data_type=<AttributeDataType.CATEGORICAL: 'categorical'>, df_attribute_name='P2P-Activities_csv_USER_NAME_Alejandro Atwood', display_name='P2P-Activities_csv.USER_NAME = Alejandro Atwood', correlation=0.08133852513406953, p_val=1.0, unit='', label_influence=2.7380192603567153, cases_with_attribute=None),\n Attribute(major_attribute_type=<MajorAttribute.ACTIVITY: 'Activity'>, minor_attribute_type='Activity Table column', attribute_data_type=<AttributeDataType.CATEGORICAL: 'categorical'>, df_attribute_name='P2P-Activities_csv_USER_NAME_Emmie Schuldt', display_name='P2P-Activities_csv.USER_NAME = Emmie Schuldt', correlation=0.07723298254706497, p_val=1.0, unit='', label_influence=2.923750185432432, cases_with_attribute=None),\n Attribute(major_attribute_type=<MajorAttribute.ACTIVITY: 'Activity'>, minor_attribute_type='Activity Table column', attribute_data_type=<AttributeDataType.CATEGORICAL: 'categorical'>, df_attribute_name='P2P-Activities_csv_USER_NAME_Lucina Boyers', display_name='P2P-Activities_csv.USER_NAME = Lucina Boyers', correlation=0.07656192476070747, p_val=1.0, unit='', label_influence=3.9963180503199816, cases_with_attribute=None),\n Attribute(major_attribute_type=<MajorAttribute.ACTIVITY: 'Activity'>, minor_attribute_type='Activity Table column', attribute_data_type=<AttributeDataType.CATEGORICAL: 'categorical'>, df_attribute_name='P2P-Activities_csv_USER_NAME_Rachel Onorato', display_name='P2P-Activities_csv.USER_NAME = Rachel Onorato', correlation=0.07395585809364043, p_val=1.0, unit='', label_influence=2.7972243273967408, cases_with_attribute=None),\n Attribute(major_attribute_type=<MajorAttribute.ACTIVITY: 'Activity'>, minor_attribute_type='Activity Table column', attribute_data_type=<AttributeDataType.CATEGORICAL: 'categorical'>, df_attribute_name='P2P-Activities_csv_ACTIVITY_EN_Send Purchase Order Update', display_name='P2P-Activities_csv.ACTIVITY_EN = Send Purchase Order Update', correlation=0.0721066924509469, p_val=1.0, unit='', label_influence=4.7113636363636395, cases_with_attribute=None),\n Attribute(major_attribute_type=<MajorAttribute.ACTIVITY: 'Activity'>, minor_attribute_type='Activity Table column', attribute_data_type=<AttributeDataType.CATEGORICAL: 'categorical'>, df_attribute_name='P2P-Activities_csv_USER_NAME_Gloria Ashburn', display_name='P2P-Activities_csv.USER_NAME = Gloria Ashburn', correlation=0.0703204767385398, p_val=1.0, unit='', label_influence=2.0815694372741333, cases_with_attribute=None),\n Attribute(major_attribute_type=<MajorAttribute.ACTIVITY: 'Activity'>, minor_attribute_type='Activity Table column', attribute_data_type=<AttributeDataType.CATEGORICAL: 'categorical'>, df_attribute_name='P2P-Activities_csv_USER_NAME_Leontine Sifford', display_name='P2P-Activities_csv.USER_NAME = Leontine Sifford', correlation=0.06996490517547009, p_val=1.0, unit='', label_influence=2.3110036467417174, cases_with_attribute=None),\n Attribute(major_attribute_type=<MajorAttribute.ACTIVITY: 'Activity'>, minor_attribute_type='Activity Table column', attribute_data_type=<AttributeDataType.CATEGORICAL: 'categorical'>, df_attribute_name='P2P-Activities_csv_USER_NAME_Cherryl Vandine', display_name='P2P-Activities_csv.USER_NAME = Cherryl Vandine', correlation=0.06798096509005697, p_val=1.0, unit='', label_influence=3.023988268511019, cases_with_attribute=None),\n Attribute(major_attribute_type=<MajorAttribute.ACTIVITY: 'Activity'>, minor_attribute_type='Activity Table column', attribute_data_type=<AttributeDataType.CATEGORICAL: 'categorical'>, df_attribute_name='P2P-Activities_csv_USER_NAME_Irene Llanas', display_name='P2P-Activities_csv.USER_NAME = Irene Llanas', correlation=0.06606430629052211, p_val=1.0, unit='', label_influence=2.8123692164612883, cases_with_attribute=None),\n Attribute(major_attribute_type=<MajorAttribute.ACTIVITY: 'Activity'>, minor_attribute_type='Activity Table column', attribute_data_type=<AttributeDataType.CATEGORICAL: 'categorical'>, df_attribute_name='P2P-Activities_csv_USER_NAME_Lang Winkler', display_name='P2P-Activities_csv.USER_NAME = Lang Winkler', correlation=0.06407314671404145, p_val=1.0, unit='', label_influence=2.585106382978722, cases_with_attribute=None),\n Attribute(major_attribute_type=<MajorAttribute.ACTIVITY: 'Activity'>, minor_attribute_type='Activity Table column', attribute_data_type=<AttributeDataType.CATEGORICAL: 'categorical'>, df_attribute_name='P2P-Activities_csv_USER_NAME_Melissia Kreidler', display_name='P2P-Activities_csv.USER_NAME = Melissia Kreidler', correlation=0.06366350799543646, p_val=1.0, unit='', label_influence=2.337666506178781, cases_with_attribute=None),\n Attribute(major_attribute_type=<MajorAttribute.ACTIVITY: 'Activity'>, minor_attribute_type='Activity Table column', attribute_data_type=<AttributeDataType.CATEGORICAL: 'categorical'>, df_attribute_name='P2P-Activities_csv_USER_NAME_Summer Fusaro', display_name='P2P-Activities_csv.USER_NAME = Summer Fusaro', correlation=0.06044441553888966, p_val=1.0, unit='', label_influence=2.415723220647614, cases_with_attribute=None),\n Attribute(major_attribute_type=<MajorAttribute.CASE: 'Case'>, minor_attribute_type='Case Table column', attribute_data_type=<AttributeDataType.CATEGORICAL: 'categorical'>, df_attribute_name='P2P-Cases_new_ID_csv_VENDOR_R1000', display_name='P2P-Cases_new_ID_csv.VENDOR = R1000', correlation=0.05640077642371211, p_val=1.0, unit='', label_influence=1.453400108017874, cases_with_attribute=None),\n Attribute(major_attribute_type=<MajorAttribute.ACTIVITY: 'Activity'>, minor_attribute_type='Activity Table column', attribute_data_type=<AttributeDataType.CATEGORICAL: 'categorical'>, df_attribute_name='P2P-Activities_csv_USER_NAME_Kristen Eckhoff', display_name='P2P-Activities_csv.USER_NAME = Kristen Eckhoff', correlation=0.055798265720855146, p_val=1.0, unit='', label_influence=1.9045340675709213, cases_with_attribute=None),\n Attribute(major_attribute_type=<MajorAttribute.ACTIVITY: 'Activity'>, minor_attribute_type='Activity Table column', attribute_data_type=<AttributeDataType.CATEGORICAL: 'categorical'>, df_attribute_name='P2P-Activities_csv_USER_NAME_Marcela Ye', display_name='P2P-Activities_csv.USER_NAME = Marcela Ye', correlation=0.054135220646095314, p_val=1.0, unit='', label_influence=1.992567364519683, cases_with_attribute=None),\n Attribute(major_attribute_type=<MajorAttribute.ACTIVITY: 'Activity'>, minor_attribute_type='Activity Table column', attribute_data_type=<AttributeDataType.CATEGORICAL: 'categorical'>, df_attribute_name='P2P-Activities_csv_USER_NAME_Dalila Proehl', display_name='P2P-Activities_csv.USER_NAME = Dalila Proehl', correlation=0.047611756721001354, p_val=1.0, unit='', label_influence=1.8397704423592494, cases_with_attribute=None),\n Attribute(major_attribute_type=<MajorAttribute.ACTIVITY: 'Activity'>, minor_attribute_type='Activity Table column', attribute_data_type=<AttributeDataType.CATEGORICAL: 'categorical'>, df_attribute_name='P2P-Activities_csv_USER_NAME_Lavonna Haymon', display_name='P2P-Activities_csv.USER_NAME = Lavonna Haymon', correlation=0.04507768664924273, p_val=1.0, unit='', label_influence=2.5713287202068926, cases_with_attribute=None),\n Attribute(major_attribute_type=<MajorAttribute.ACTIVITY: 'Activity'>, minor_attribute_type='Activity Table column', attribute_data_type=<AttributeDataType.CATEGORICAL: 'categorical'>, df_attribute_name='P2P-Activities_csv_USER_NAME_Emilio Sones', display_name='P2P-Activities_csv.USER_NAME = Emilio Sones', correlation=0.04219575918425782, p_val=1.0, unit='', label_influence=1.89853153586904, cases_with_attribute=None),\n Attribute(major_attribute_type=<MajorAttribute.ACTIVITY: 'Activity'>, minor_attribute_type='Activity Table column', attribute_data_type=<AttributeDataType.CATEGORICAL: 'categorical'>, df_attribute_name='P2P-Activities_csv_USER_NAME_Felice Cover', display_name='P2P-Activities_csv.USER_NAME = Felice Cover', correlation=0.0398642006758423, p_val=1.0, unit='', label_influence=1.797926601700187, cases_with_attribute=None),\n Attribute(major_attribute_type=<MajorAttribute.CASE: 'Case'>, minor_attribute_type='Case Table column', attribute_data_type=<AttributeDataType.CATEGORICAL: 'categorical'>, df_attribute_name='P2P-Cases_new_ID_csv_VENDOR_R3000', display_name='P2P-Cases_new_ID_csv.VENDOR = R3000', correlation=0.037988051105650913, p_val=1.0, unit='', label_influence=1.4706560283687935, cases_with_attribute=None),\n Attribute(major_attribute_type=<MajorAttribute.ACTIVITY: 'Activity'>, minor_attribute_type='Activity Table column', attribute_data_type=<AttributeDataType.CATEGORICAL: 'categorical'>, df_attribute_name='P2P-Activities_csv_ACTIVITY_EN_Dun Order Confirmation', display_name='P2P-Activities_csv.ACTIVITY_EN = Dun Order Confirmation', correlation=0.034733393466300166, p_val=1.0, unit='', label_influence=1.625388601036267, cases_with_attribute=None),\n Attribute(major_attribute_type=<MajorAttribute.ACTIVITY: 'Activity'>, minor_attribute_type='Activity Table column', attribute_data_type=<AttributeDataType.CATEGORICAL: 'categorical'>, df_attribute_name='P2P-Activities_csv_USER_NAME_Margene Hamil', display_name='P2P-Activities_csv.USER_NAME = Margene Hamil', correlation=0.03388173822140031, p_val=1.0, unit='', label_influence=1.3218763364620614, cases_with_attribute=None),\n Attribute(major_attribute_type=<MajorAttribute.ACTIVITY: 'Activity'>, minor_attribute_type='Activity Table column', attribute_data_type=<AttributeDataType.CATEGORICAL: 'categorical'>, df_attribute_name='P2P-Activities_csv_USER_NAME_Marita Creagh', display_name='P2P-Activities_csv.USER_NAME = Marita Creagh', correlation=0.03287458325834734, p_val=1.0, unit='', label_influence=1.2726950354609947, cases_with_attribute=None),\n Attribute(major_attribute_type=<MajorAttribute.ACTIVITY: 'Activity'>, minor_attribute_type='Activity Table column', attribute_data_type=<AttributeDataType.CATEGORICAL: 'categorical'>, df_attribute_name='P2P-Activities_csv_USER_NAME_Anna Hulings', display_name='P2P-Activities_csv.USER_NAME = Anna Hulings', correlation=0.03197551536588772, p_val=1.0, unit='', label_influence=0.4345950882890186, cases_with_attribute=None),\n Attribute(major_attribute_type=<MajorAttribute.ACTIVITY: 'Activity'>, minor_attribute_type='Activity Table column', attribute_data_type=<AttributeDataType.CATEGORICAL: 'categorical'>, df_attribute_name='P2P-Activities_csv_USER_NAME_Alfonso Wernick', display_name='P2P-Activities_csv.USER_NAME = Alfonso Wernick', correlation=0.02548882052763044, p_val=1.0, unit='', label_influence=0.9340495002617111, cases_with_attribute=None),\n Attribute(major_attribute_type=<MajorAttribute.ACTIVITY: 'Activity'>, minor_attribute_type='Activity Table column', attribute_data_type=<AttributeDataType.CATEGORICAL: 'categorical'>, df_attribute_name='P2P-Activities_csv_ACTIVITY_EN_Receive Order Confirmation', display_name='P2P-Activities_csv.ACTIVITY_EN = Receive Order Confirmation', correlation=0.025145954628013056, p_val=1.0, unit='', label_influence=0.8545081967213122, cases_with_attribute=None),\n Attribute(major_attribute_type=<MajorAttribute.ACTIVITY: 'Activity'>, minor_attribute_type='Activity Table column', attribute_data_type=<AttributeDataType.CATEGORICAL: 'categorical'>, df_attribute_name='P2P-Activities_csv_USER_NAME_Luisa Solar', display_name='P2P-Activities_csv.USER_NAME = Luisa Solar', correlation=0.02143061739975935, p_val=1.0, unit='', label_influence=0.7177534507377459, cases_with_attribute=None),\n Attribute(major_attribute_type=<MajorAttribute.CASE: 'Case'>, minor_attribute_type='Case Table column', attribute_data_type=<AttributeDataType.CATEGORICAL: 'categorical'>, df_attribute_name='P2P-Cases_new_ID_csv_VENDOR_0000001011', display_name='P2P-Cases_new_ID_csv.VENDOR = 0000001011', correlation=0.020622585227902314, p_val=1.0, unit='', label_influence=0.868818897637798, cases_with_attribute=None),\n Attribute(major_attribute_type=<MajorAttribute.ACTIVITY: 'Activity'>, minor_attribute_type='Activity Table column', attribute_data_type=<AttributeDataType.CATEGORICAL: 'categorical'>, df_attribute_name='P2P-Activities_csv_USER_NAME_Rona Hennis', display_name='P2P-Activities_csv.USER_NAME = Rona Hennis', correlation=0.020616579458513376, p_val=1.0, unit='', label_influence=0.9125597566275516, cases_with_attribute=None),\n Attribute(major_attribute_type=<MajorAttribute.CASE: 'Case'>, minor_attribute_type='Case Table column', attribute_data_type=<AttributeDataType.CATEGORICAL: 'categorical'>, df_attribute_name=\"P2P-Cases_new_ID_csv_MATERIAL TEXT_RAVIOLI 'LA MAMMA'\", display_name=\"P2P-Cases_new_ID_csv.MATERIAL TEXT = RAVIOLI 'LA MAMMA'\", correlation=0.016839690620231572, p_val=1.0, unit='', label_influence=1.0068027210884338, cases_with_attribute=None),\n Attribute(major_attribute_type=<MajorAttribute.CASE: 'Case'>, minor_attribute_type='Case Table column', attribute_data_type=<AttributeDataType.CATEGORICAL: 'categorical'>, df_attribute_name='P2P-Cases_new_ID_csv_VENDOR_R3002', display_name='P2P-Cases_new_ID_csv.VENDOR = R3002', correlation=0.013261733603579903, p_val=1.0, unit='', label_influence=0.8095552983964289, cases_with_attribute=None),\n Attribute(major_attribute_type=<MajorAttribute.CASE: 'Case'>, minor_attribute_type='Case Table column', attribute_data_type=<AttributeDataType.CATEGORICAL: 'categorical'>, df_attribute_name=\"P2P-Cases_new_ID_csv_MATERIAL TEXT_Skateboard 'Hells Bells'\", display_name=\"P2P-Cases_new_ID_csv.MATERIAL TEXT = Skateboard 'Hells Bells'\", correlation=0.011958856591211063, p_val=1.0, unit='', label_influence=0.6753924218712939, cases_with_attribute=None),\n Attribute(major_attribute_type=<MajorAttribute.ACTIVITY: 'Activity'>, minor_attribute_type='Activity Table column', attribute_data_type=<AttributeDataType.CATEGORICAL: 'categorical'>, df_attribute_name='P2P-Activities_csv_USER_NAME_Francine Bevingt', display_name='P2P-Activities_csv.USER_NAME = Francine Bevingt', correlation=0.010996002349092022, p_val=1.0, unit='', label_influence=0.4441077441077468, cases_with_attribute=None),\n Attribute(major_attribute_type=<MajorAttribute.CASE: 'Case'>, minor_attribute_type='Case Table column', attribute_data_type=<AttributeDataType.CATEGORICAL: 'categorical'>, df_attribute_name='P2P-Cases_new_ID_csv_VENDOR_0000001005', display_name='P2P-Cases_new_ID_csv.VENDOR = 0000001005', correlation=0.010571153143752034, p_val=1.0, unit='', label_influence=0.49468911917098524, cases_with_attribute=None),\n Attribute(major_attribute_type=<MajorAttribute.ACTIVITY: 'Activity'>, minor_attribute_type='Activity Table column', attribute_data_type=<AttributeDataType.CATEGORICAL: 'categorical'>, df_attribute_name='P2P-Activities_csv_USER_NAME_Roy Ortego', display_name='P2P-Activities_csv.USER_NAME = Roy Ortego', correlation=0.009837555696428206, p_val=1.0, unit='', label_influence=-0.015520421607380541, cases_with_attribute=None),\n Attribute(major_attribute_type=<MajorAttribute.CASE: 'Case'>, minor_attribute_type='Case Table column', attribute_data_type=<AttributeDataType.CATEGORICAL: 'categorical'>, df_attribute_name='P2P-Cases_new_ID_csv_VENDOR_0000000300', display_name='P2P-Cases_new_ID_csv.VENDOR = 0000000300', correlation=0.0077722333986629585, p_val=1.0, unit='', label_influence=0.5078282828282852, cases_with_attribute=None),\n Attribute(major_attribute_type=<MajorAttribute.CASE: 'Case'>, minor_attribute_type='Case Table column', attribute_data_type=<AttributeDataType.CATEGORICAL: 'categorical'>, df_attribute_name='P2P-Cases_new_ID_csv_VENDOR_0000001010', display_name='P2P-Cases_new_ID_csv.VENDOR = 0000001010', correlation=0.006203100251046249, p_val=1.0, unit='', label_influence=0.40530303030303116, cases_with_attribute=None),\n Attribute(major_attribute_type=<MajorAttribute.CASE: 'Case'>, minor_attribute_type='Case Table column', attribute_data_type=<AttributeDataType.CATEGORICAL: 'categorical'>, df_attribute_name=\"P2P-Cases_new_ID_csv_MATERIAL TEXT_Meyer's goulash soup\", display_name=\"P2P-Cases_new_ID_csv.MATERIAL TEXT = Meyer's goulash soup\", correlation=0.005170705154773156, p_val=1.0, unit='', label_influence=0.3155912489615069, cases_with_attribute=None),\n Attribute(major_attribute_type=<MajorAttribute.ACTIVITY: 'Activity'>, minor_attribute_type='Activity Table column', attribute_data_type=<AttributeDataType.CATEGORICAL: 'categorical'>, df_attribute_name='P2P-Activities_csv_USER_NAME_BATCH_JOB', display_name='P2P-Activities_csv.USER_NAME = BATCH_JOB', correlation=0.003123855180815725, p_val=1.0, unit='', label_influence=25.314009661835748, cases_with_attribute=None),\n Attribute(major_attribute_type=<MajorAttribute.ACTIVITY: 'Activity'>, minor_attribute_type='Activity Table column', attribute_data_type=<AttributeDataType.CATEGORICAL: 'categorical'>, df_attribute_name='P2P-Activities_csv_USER TYPE_B', display_name='P2P-Activities_csv.USER TYPE = B', correlation=0.003123855180815725, p_val=1.0, unit='', label_influence=25.314009661835748, cases_with_attribute=None),\n Attribute(major_attribute_type=<MajorAttribute.ACTIVITY: 'Activity'>, minor_attribute_type='Activity Table column', attribute_data_type=<AttributeDataType.CATEGORICAL: 'categorical'>, df_attribute_name='P2P-Activities_csv_USER_NAME_Suellen Noecker', display_name='P2P-Activities_csv.USER_NAME = Suellen Noecker', correlation=0.0019229284949611413, p_val=1.0, unit='', label_influence=0.7440351402615555, cases_with_attribute=None),\n Attribute(major_attribute_type=<MajorAttribute.CASE: 'Case'>, minor_attribute_type='Case Table column', attribute_data_type=<AttributeDataType.CATEGORICAL: 'categorical'>, df_attribute_name='P2P-Cases_new_ID_csv_MATERIAL TEXT_Fauna margarine', display_name='P2P-Cases_new_ID_csv.MATERIAL TEXT = Fauna margarine', correlation=0.0018724323691701628, p_val=1.0, unit='', label_influence=0.09211283822682503, cases_with_attribute=None),\n Attribute(major_attribute_type=<MajorAttribute.ACTIVITY: 'Activity'>, minor_attribute_type='Case Table column', attribute_data_type=<AttributeDataType.NUMERICAL: 'numerical'>, df_attribute_name='P2P-Cases_new_ID_csv_NET ORDER PRICE', display_name='P2P-Cases_new_ID_csv.NET ORDER PRICE', correlation=0.0, p_val=1.0, unit='', label_influence=None, cases_with_attribute=None),\n Attribute(major_attribute_type=<MajorAttribute.CASE: 'Case'>, minor_attribute_type='Case Table column', attribute_data_type=<AttributeDataType.CATEGORICAL: 'categorical'>, df_attribute_name='P2P-Cases_new_ID_csv_VENDOR_0000001015', display_name='P2P-Cases_new_ID_csv.VENDOR = 0000001015', correlation=-0.003211698634653846, p_val=1.0, unit='', label_influence=-0.20984848484848584, cases_with_attribute=None),\n Attribute(major_attribute_type=<MajorAttribute.CASE: 'Case'>, minor_attribute_type='Case Table column', attribute_data_type=<AttributeDataType.CATEGORICAL: 'categorical'>, df_attribute_name='P2P-Cases_new_ID_csv_MATERIAL TEXT_Yoghurt all natural', display_name='P2P-Cases_new_ID_csv.MATERIAL TEXT = Yoghurt all natural', correlation=-0.009561472592372474, p_val=1.0, unit='', label_influence=-0.5217121862688678, cases_with_attribute=None),\n Attribute(major_attribute_type=<MajorAttribute.CASE: 'Case'>, minor_attribute_type='Case Table column', attribute_data_type=<AttributeDataType.CATEGORICAL: 'categorical'>, df_attribute_name=\"P2P-Cases_new_ID_csv_MATERIAL TEXT_Body lotion 'Alabaster'\", display_name=\"P2P-Cases_new_ID_csv.MATERIAL TEXT = Body lotion 'Alabaster'\", correlation=-0.011787559951370721, p_val=1.0, unit='', label_influence=-0.6657182150139924, cases_with_attribute=None),\n Attribute(major_attribute_type=<MajorAttribute.CASE: 'Case'>, minor_attribute_type='Case Table column', attribute_data_type=<AttributeDataType.CATEGORICAL: 'categorical'>, df_attribute_name='P2P-Cases_new_ID_csv_MATERIAL TEXT_Fitdrink 2000 (Can)', display_name='P2P-Cases_new_ID_csv.MATERIAL TEXT = Fitdrink 2000 (Can)', correlation=-0.017559344462067413, p_val=1.0, unit='', label_influence=-1.0717252838548887, cases_with_attribute=None),\n Attribute(major_attribute_type=<MajorAttribute.CASE: 'Case'>, minor_attribute_type='Case Table column', attribute_data_type=<AttributeDataType.CATEGORICAL: 'categorical'>, df_attribute_name=\"P2P-Cases_new_ID_csv_MATERIAL TEXT_Shampoo 'Splash'\", display_name=\"P2P-Cases_new_ID_csv.MATERIAL TEXT = Shampoo 'Splash'\", correlation=-0.017803965750880547, p_val=1.0, unit='', label_influence=-1.0240015738736936, cases_with_attribute=None),\n Attribute(major_attribute_type=<MajorAttribute.CASE: 'Case'>, minor_attribute_type='Case Table column', attribute_data_type=<AttributeDataType.CATEGORICAL: 'categorical'>, df_attribute_name='P2P-Cases_new_ID_csv_MATERIAL TEXT_Tuner X300', display_name='P2P-Cases_new_ID_csv.MATERIAL TEXT = Tuner X300', correlation=-0.0185722503921084, p_val=1.0, unit='', label_influence=-1.0488926826955023, cases_with_attribute=None),\n Attribute(major_attribute_type=<MajorAttribute.CASE: 'Case'>, minor_attribute_type='Case Table column', attribute_data_type=<AttributeDataType.CATEGORICAL: 'categorical'>, df_attribute_name=\"P2P-Cases_new_ID_csv_MATERIAL TEXT_Meyer's cream of mushroom soup\", display_name=\"P2P-Cases_new_ID_csv.MATERIAL TEXT = Meyer's cream of mushroom soup\", correlation=-0.021958708904036558, p_val=1.0, unit='', label_influence=-1.340238161174188, cases_with_attribute=None),\n Attribute(major_attribute_type=<MajorAttribute.CASE: 'Case'>, minor_attribute_type='Case Table column', attribute_data_type=<AttributeDataType.CATEGORICAL: 'categorical'>, df_attribute_name='P2P-Cases_new_ID_csv_MATERIAL TEXT_Net of oranges, 4 lb', display_name='P2P-Cases_new_ID_csv.MATERIAL TEXT = Net of oranges, 4 lb', correlation=-0.0314930381783101, p_val=1.0, unit='', label_influence=-2.0573604060913695, cases_with_attribute=None),\n Attribute(major_attribute_type=<MajorAttribute.CASE: 'Case'>, minor_attribute_type='Case Table column', attribute_data_type=<AttributeDataType.CATEGORICAL: 'categorical'>, df_attribute_name='P2P-Cases_new_ID_csv_MATERIAL TEXT_Pepper', display_name='P2P-Cases_new_ID_csv.MATERIAL TEXT = Pepper', correlation=-0.031493038178310215, p_val=1.0, unit='', label_influence=-2.0573604060913695, cases_with_attribute=None),\n Attribute(major_attribute_type=<MajorAttribute.CASE: 'Case'>, minor_attribute_type='Case Table column', attribute_data_type=<AttributeDataType.CATEGORICAL: 'categorical'>, df_attribute_name='P2P-Cases_new_ID_csv_VENDOR_0000005560', display_name='P2P-Cases_new_ID_csv.VENDOR = 0000005560', correlation=-0.04168671546082893, p_val=1.0, unit='', label_influence=-1.9507772020725405, cases_with_attribute=None),\n Attribute(major_attribute_type=<MajorAttribute.CASE: 'Case'>, minor_attribute_type='Case Table column', attribute_data_type=<AttributeDataType.CATEGORICAL: 'categorical'>, df_attribute_name='P2P-Cases_new_ID_csv_VENDOR_0000001003', display_name='P2P-Cases_new_ID_csv.VENDOR = 0000001003', correlation=-0.048716559915537666, p_val=1.0, unit='', label_influence=-3.1830808080808097, cases_with_attribute=None),\n Attribute(major_attribute_type=<MajorAttribute.CASE: 'Case'>, minor_attribute_type='Case Table column', attribute_data_type=<AttributeDataType.CATEGORICAL: 'categorical'>, df_attribute_name='P2P-Cases_new_ID_csv_VENDOR_0000005550', display_name='P2P-Cases_new_ID_csv.VENDOR = 0000005550', correlation=-0.056530813388883674, p_val=1.0, unit='', label_influence=-1.571089181286549, cases_with_attribute=None),\n Attribute(major_attribute_type=<MajorAttribute.CASE: 'Case'>, minor_attribute_type='Case Table column', attribute_data_type=<AttributeDataType.CATEGORICAL: 'categorical'>, df_attribute_name='P2P-Cases_new_ID_csv_MATERIAL TEXT_Salami parma', display_name='P2P-Cases_new_ID_csv.MATERIAL TEXT = Salami parma', correlation=-0.061830050341196624, p_val=1.0, unit='', label_influence=-3.082831269635925, cases_with_attribute=None),\n Attribute(major_attribute_type=<MajorAttribute.CASE: 'Case'>, minor_attribute_type='Case Table column', attribute_data_type=<AttributeDataType.CATEGORICAL: 'categorical'>, df_attribute_name='P2P-Cases_new_ID_csv_MATERIAL TEXT_Bottle 1.5', display_name='P2P-Cases_new_ID_csv.MATERIAL TEXT = Bottle 1.5', correlation=-0.06877063091452885, p_val=1.0, unit='', label_influence=-4.387124099957646, cases_with_attribute=None),\n Attribute(major_attribute_type=<MajorAttribute.CASE: 'Case'>, minor_attribute_type='Case Table column', attribute_data_type=<AttributeDataType.CATEGORICAL: 'categorical'>, df_attribute_name='P2P-Cases_new_ID_csv_MATERIAL TEXT_Hammer, 20 oz framing', display_name='P2P-Cases_new_ID_csv.MATERIAL TEXT = Hammer, 20 oz framing', correlation=-0.06962530698543208, p_val=1.0, unit='', label_influence=-4.004524886877828, cases_with_attribute=None),\n Attribute(major_attribute_type=<MajorAttribute.CASE: 'Case'>, minor_attribute_type='Case Table column', attribute_data_type=<AttributeDataType.CATEGORICAL: 'categorical'>, df_attribute_name='P2P-Cases_new_ID_csv_MATERIAL TEXT_Screwdriver (cross-head)', display_name='P2P-Cases_new_ID_csv.MATERIAL TEXT = Screwdriver (cross-head)', correlation=-0.08428303849859954, p_val=1.0, unit='', label_influence=-5.144170589864302, cases_with_attribute=None),\n Attribute(major_attribute_type=<MajorAttribute.CASE: 'Case'>, minor_attribute_type='Case Table column', attribute_data_type=<AttributeDataType.CATEGORICAL: 'categorical'>, df_attribute_name='P2P-Cases_new_ID_csv_VENDOR_0000003745', display_name='P2P-Cases_new_ID_csv.VENDOR = 0000003745', correlation=-0.09001119610592523, p_val=1.0, unit='', label_influence=-4.212176165803108, cases_with_attribute=None),\n Attribute(major_attribute_type=<MajorAttribute.CASE: 'Case'>, minor_attribute_type='Case Table column', attribute_data_type=<AttributeDataType.CATEGORICAL: 'categorical'>, df_attribute_name='P2P-Cases_new_ID_csv_VENDOR_0000003021', display_name='P2P-Cases_new_ID_csv.VENDOR = 0000003021', correlation=-0.0919624197590584, p_val=1.0, unit='', label_influence=-3.1788497217068645, cases_with_attribute=None),\n Attribute(major_attribute_type=<MajorAttribute.ACTIVITY: 'Activity'>, minor_attribute_type='Activity Table column', attribute_data_type=<AttributeDataType.CATEGORICAL: 'categorical'>, df_attribute_name='P2P-Activities_csv_ACTIVITY_EN_Block Purchase Order Item', display_name='P2P-Activities_csv.ACTIVITY_EN = Block Purchase Order Item', correlation=-0.09441266413707161, p_val=1.0, unit='', label_influence=-4.52706378348973, cases_with_attribute=None),\n Attribute(major_attribute_type=<MajorAttribute.CASE: 'Case'>, minor_attribute_type='Case Table column', attribute_data_type=<AttributeDataType.CATEGORICAL: 'categorical'>, df_attribute_name='P2P-Cases_new_ID_csv_MATERIAL TEXT_Laser Printer', display_name='P2P-Cases_new_ID_csv.MATERIAL TEXT = Laser Printer', correlation=-0.11548532919342479, p_val=1.0, unit='', label_influence=-5.34085922345534, cases_with_attribute=None),\n Attribute(major_attribute_type=<MajorAttribute.CASE: 'Case'>, minor_attribute_type='Case Table column', attribute_data_type=<AttributeDataType.CATEGORICAL: 'categorical'>, df_attribute_name='P2P-Cases_new_ID_csv_CURRENCY_USD', display_name='P2P-Cases_new_ID_csv.CURRENCY = USD', correlation=-0.21212367718807074, p_val=1.0, unit='', label_influence=-4.42186094332348, cases_with_attribute=None),\n Attribute(major_attribute_type=<MajorAttribute.ACTIVITY: 'Activity'>, minor_attribute_type='Activity Table column', attribute_data_type=<AttributeDataType.CATEGORICAL: 'categorical'>, df_attribute_name='P2P-Activities_csv_ACTIVITY_EN_Delete Purchase Order Item', display_name='P2P-Activities_csv.ACTIVITY_EN = Delete Purchase Order Item', correlation=-0.28094826576280674, p_val=1.0, unit='', label_influence=-18.356818181818184, cases_with_attribute=None),\n Attribute(major_attribute_type=<MajorAttribute.ACTIVITY: 'Activity'>, minor_attribute_type='Activity Table column', attribute_data_type=<AttributeDataType.CATEGORICAL: 'categorical'>, df_attribute_name='P2P-Activities_csv_ACTIVITY_EN_Refuse Purchase Order', display_name='P2P-Activities_csv.ACTIVITY_EN = Refuse Purchase Order', correlation=-0.40726348414594976, p_val=1.0, unit='', label_influence=-26.610101010101012, cases_with_attribute=None)]"
     },
     "execution_count": 14,
     "metadata": {},
     "output_type": "execute_result"
    }
   ],
   "source": [
    "sorted_by_cor"
   ],
   "metadata": {
    "collapsed": false,
    "pycharm": {
     "name": "#%%\n"
    }
   }
  },
  {
   "cell_type": "code",
   "execution_count": 7,
   "outputs": [
    {
     "data": {
      "text/plain": "True"
     },
     "execution_count": 7,
     "metadata": {},
     "output_type": "execute_result"
    }
   ],
   "source": [
    "p.attributes[0] < p.attributes[1]"
   ],
   "metadata": {
    "collapsed": false,
    "pycharm": {
     "name": "#%%\n"
    }
   }
  },
  {
   "cell_type": "markdown",
   "source": [],
   "metadata": {
    "collapsed": false
   }
  },
  {
   "cell_type": "code",
   "execution_count": 10,
   "outputs": [
    {
     "data": {
      "text/plain": "Start activity = Create Purchase Order Item         -0.030533\nStart activity = Create Purchase Requisition Item    0.352727\nStart activity = Record Invoice Receipt             -0.121599\nEnd activity = Block Purchase Order Item            -0.278595\nEnd activity = Clear Invoice                         0.484159\n                                                       ...   \nP2P-Activities_csv_USER_NAME_Tasia Snelgrove         0.147000\nP2P-Activities_csv_USER_NAME_Toby Narvaez            0.090737\nP2P-Activities_csv_USER_NAME_Yanira Gorrfried        0.178326\nP2P-Activities_csv_USER TYPE_A                       0.534631\nP2P-Activities_csv_USER TYPE_B                       0.003124\nLength: 184, dtype: float64"
     },
     "execution_count": 10,
     "metadata": {},
     "output_type": "execute_result"
    }
   ],
   "source": [
    "cors"
   ],
   "metadata": {
    "collapsed": false,
    "pycharm": {
     "name": "#%%\n"
    }
   }
  },
  {
   "cell_type": "code",
   "execution_count": 15,
   "outputs": [],
   "source": [
    "MajorAttribute"
   ],
   "metadata": {
    "collapsed": false,
    "pycharm": {
     "name": "#%%\n"
    }
   }
  },
  {
   "cell_type": "code",
   "execution_count": 11,
   "outputs": [],
   "source": [
    "from dataclasses import dataclass, field"
   ],
   "metadata": {
    "collapsed": false,
    "pycharm": {
     "name": "#%%\n"
    }
   }
  },
  {
   "cell_type": "code",
   "execution_count": 15,
   "outputs": [],
   "source": [
    "from dataclasses import fields\n",
    "import dataclasses\n",
    "\n",
    "class SituationAttribute:\n",
    "    def __init__(self, major_feature_type, sub_feature_type, aggregation=None, table_name=None, ):\n",
    "        correlation: float\n",
    "        #table_name: str\n",
    "        #data_type: str\n",
    "\n",
    "\n",
    "\n",
    "\n",
    "\n",
    "\n"
   ],
   "metadata": {
    "collapsed": false,
    "pycharm": {
     "name": "#%%\n"
    }
   }
  },
  {
   "cell_type": "code",
   "source": [
    "from enum import Enum\n",
    "class MajorAttribute(Enum):\n",
    "    ACTIVITY = \"Activity\"\n",
    "\n",
    "class AttributeDataType(Enum):\n",
    "    NUMERICAL = \"numerical\"\n",
    "    CATEGORICAL = \"categorical\""
   ],
   "metadata": {
    "collapsed": false,
    "pycharm": {
     "name": "#%%\n"
    }
   },
   "execution_count": 4,
   "outputs": []
  },
  {
   "cell_type": "code",
   "execution_count": 14,
   "outputs": [],
   "source": [
    "from typing import Optional\n",
    "\n",
    "@dataclass\n",
    "class Attribute:\n",
    "        major_attribute: MajorAttribute\n",
    "        attribute_type: str\n",
    "        attribute_data_type: AttributeDataType\n",
    "        df_attribute_name:str\n",
    "        display_name: str\n",
    "        correlation: Optional[float] = 0.\n",
    "        p_val: Optional[float]=1.\n",
    "\n",
    "\n",
    "\n",
    "\n",
    "\n"
   ],
   "metadata": {
    "collapsed": false,
    "pycharm": {
     "name": "#%%\n"
    }
   }
  },
  {
   "cell_type": "code",
   "execution_count": 15,
   "outputs": [],
   "source": [
    "from typing import Optional\n",
    "\n",
    "\n",
    "@dataclass\n",
    "class boo:\n",
    "    x:Optional[int] = None\n",
    "\n",
    "b = boo()"
   ],
   "metadata": {
    "collapsed": false,
    "pycharm": {
     "name": "#%%\n"
    }
   }
  },
  {
   "cell_type": "code",
   "execution_count": 16,
   "outputs": [],
   "source": [
    "b1 = boo(1)\n",
    "b2=boo(2)"
   ],
   "metadata": {
    "collapsed": false,
    "pycharm": {
     "name": "#%%\n"
    }
   }
  },
  {
   "cell_type": "code",
   "execution_count": 17,
   "outputs": [],
   "source": [
    "l = [b1, b2]\n",
    "d = {\"A\": b1, \"B\": b2}"
   ],
   "metadata": {
    "collapsed": false,
    "pycharm": {
     "name": "#%%\n"
    }
   }
  },
  {
   "cell_type": "code",
   "execution_count": 18,
   "outputs": [],
   "source": [
    "l[0].x = 213123"
   ],
   "metadata": {
    "collapsed": false,
    "pycharm": {
     "name": "#%%\n"
    }
   }
  },
  {
   "cell_type": "code",
   "execution_count": 19,
   "outputs": [
    {
     "name": "stdout",
     "output_type": "stream",
     "text": [
      "{'A': boo(x=213123), 'B': boo(x=2)}\n"
     ]
    }
   ],
   "source": [
    "print(d)"
   ],
   "metadata": {
    "collapsed": false,
    "pycharm": {
     "name": "#%%\n"
    }
   }
  },
  {
   "cell_type": "code",
   "execution_count": 9,
   "outputs": [],
   "source": [
    "import pandas as pd\n",
    "df_test = pd.DataFrame(data = {'A': [1,2,3,4], 'B': [2,3,5,1], 'C': [7,3,2,1]})"
   ],
   "metadata": {
    "collapsed": false,
    "pycharm": {
     "name": "#%%\n"
    }
   }
  },
  {
   "cell_type": "code",
   "execution_count": 12,
   "outputs": [
    {
     "data": {
      "text/plain": "pandas.core.series.Series"
     },
     "execution_count": 12,
     "metadata": {},
     "output_type": "execute_result"
    }
   ],
   "source": [
    "type(df_test.corrwith(df_test['C']))"
   ],
   "metadata": {
    "collapsed": false,
    "pycharm": {
     "name": "#%%\n"
    }
   }
  },
  {
   "cell_type": "code",
   "execution_count": null,
   "outputs": [],
   "source": [
    ")"
   ],
   "metadata": {
    "collapsed": false,
    "pycharm": {
     "name": "#%%\n"
    }
   }
  }
 ],
 "metadata": {
  "kernelspec": {
   "display_name": "Python 3",
   "language": "python",
   "name": "python3"
  },
  "language_info": {
   "codemirror_mode": {
    "name": "ipython",
    "version": 2
   },
   "file_extension": ".py",
   "mimetype": "text/x-python",
   "name": "python",
   "nbconvert_exporter": "python",
   "pygments_lexer": "ipython2",
   "version": "2.7.6"
  }
 },
 "nbformat": 4,
 "nbformat_minor": 0
}